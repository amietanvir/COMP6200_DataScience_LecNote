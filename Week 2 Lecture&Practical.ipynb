{
 "cells": [
  {
   "cell_type": "markdown",
   "metadata": {},
   "source": [
    "## Practical Class Practices"
   ]
  },
  {
   "cell_type": "markdown",
   "metadata": {},
   "source": [
    "The goal this week is to pratice using Markdown to write descriptive text in notebooks and then look at Python data structures including the pandas module that supports data structures designed for handling the kind of data we'll be working with.  \n",
    "\n",
    "There is probably too much work to complete here in the workshop session, but please use this notebook after the workshop to practice your Python.  Remember to commit your changes to git as you go and push back to Github when you are done."
   ]
  },
  {
   "cell_type": "code",
   "execution_count": 1,
   "metadata": {},
   "outputs": [],
   "source": [
    "student_name = \"TANVIR AHMED\"\n",
    "student_id = \"47701404\""
   ]
  },
  {
   "cell_type": "markdown",
   "metadata": {},
   "source": [
    "## Markdown Practice\n",
    "\n",
    "Complete this section as per the instructions in the iLearn practical page.  Add the required cells below this one."
   ]
  },
  {
   "cell_type": "markdown",
   "metadata": {},
   "source": [
    "# First Level of Heading"
   ]
  },
  {
   "cell_type": "markdown",
   "metadata": {},
   "source": [
    "## Second Level of Heading"
   ]
  },
  {
   "cell_type": "markdown",
   "metadata": {},
   "source": [
    "### Third Level of Heading"
   ]
  },
  {
   "cell_type": "markdown",
   "metadata": {},
   "source": [
    "# Markdown Samples"
   ]
  },
  {
   "cell_type": "markdown",
   "metadata": {},
   "source": [
    "<!-- #third bracket er moddhe word ta rekhe tar pashe first bracket use kore tar moddhe link ta dilei hyperlink hoye gelo.\n",
    " -->\n",
    "Here are three useful features of [Markdown](https://thecodingbot.com/markdown-in-jupyter-ipython-notebook-cheatsheet/#Mathematical_Equations)"
   ]
  },
  {
   "cell_type": "markdown",
   "metadata": {},
   "source": [
    "<!-- #Number dewar por ekta space rakhte hobe -->\n",
    "\n",
    "1. It is easy to write\n",
    "2. It can be turned into HTML automatically\n",
    "3. It can be used to add simple formatting text\n",
    "\n",
    "<!-- #kono sentence likhar por tab use korle automatic sublist hoye jabe\n",
    "#sentence er aage - use korle bold dekhabe\n",
    "#word er aage pore **word** use korle bold hobe\n",
    "#word er aage pore *word* use korle italic hobe -->\n",
    "\n",
    "- for example **BOLD** text and *italic*\n",
    "- also different paragraph structure\n"
   ]
  },
  {
   "cell_type": "markdown",
   "metadata": {},
   "source": [
    "<!-- Mathematical Expression er jonno $math expression $ aage o pore $ sign use korte hobe.sqrt root er pore first bracket use korle niche moto ashbe -->\n",
    "\n",
    "This Expression $\\sqrt(3x-1) + (1+x)^2 $\n",
    "\n",
    "<!-- sqrt root er pore second bracket use korle niche moto ashbe -->\n",
    "\n",
    "This expression $\\sqrt{3x-1}+(1+x)^2$  is an example of TeX inline Equation in a [Markdown-formatted](https://thecodingbot.com/markdown-in-jupyter-ipython-notebook-cheatsheet/#Mathematical_Equations) sentence.\n"
   ]
  },
  {
   "cell_type": "markdown",
   "metadata": {},
   "source": [
    "Here is a sample of code\n",
    "\n",
    "<!-- Markdown er moddhe code likhar system holo aage o pore ~~~ code ~~~ use kora\n",
    " -->\n",
    "~~~\n",
    "git pull --rebase upstream master \n",
    "\n",
    "~~~\n",
    "\n",
    "<!-- sentence er aage > sign use korle markdown hoi\n",
    " -->\n",
    "> Markdown is Good to Use"
   ]
  },
  {
   "cell_type": "markdown",
   "metadata": {},
   "source": [
    "<!-- logo er name k third bracket a close kore then bracket er samne ! sign add korte hobe.\n",
    "Third bracket close kore first bracket use kore tar moddhe folder/ diye file er name likhte hobe\n",
    " -->\n",
    "Here is an image inserted into the page\n",
    "\n",
    "![GitHub Logo](figure/github.png)"
   ]
  },
  {
   "cell_type": "markdown",
   "metadata": {},
   "source": [
    "<!-- arekta way ase photo add korar. direct photo er link share koreo photo add kora jai -->\n",
    "\n",
    "<img src = \"figure/github.png\" height = 100 width = 200>"
   ]
  },
  {
   "cell_type": "markdown",
   "metadata": {},
   "source": [
    "## Lists and Dictionaries\n",
    "\n",
    "First we look at some built in Python data structures: lists and dictionaries. \n",
    "\n",
    "A list is a sequence of things, unlike strongly typed languages (Java, C#) a list can contain a mixture of different types - there is no type for a list of integers or a list of lists.   Here are some lists:"
   ]
  },
  {
   "cell_type": "code",
   "execution_count": 2,
   "metadata": {},
   "outputs": [],
   "source": [
    "ages = [12, 99, 51, 3, 55]\n",
    "names = ['steve', 'jim', 'mary', 'carrie', 'zin']\n",
    "stuff = [12, 'eighteen', 6, ['another', 'list']]"
   ]
  },
  {
   "cell_type": "markdown",
   "metadata": {},
   "source": [
    "1. write code to print the first and third elements of each list\n",
    "2. write code to select and print everything except the first element of each list\n",
    "3. write a for loop that prints each element of the 'names' list"
   ]
  },
  {
   "cell_type": "code",
   "execution_count": 3,
   "metadata": {},
   "outputs": [
    {
     "name": "stdout",
     "output_type": "stream",
     "text": [
      "12\n",
      "51\n",
      "steve\n",
      "mary\n",
      "12\n",
      "6\n"
     ]
    }
   ],
   "source": [
    "# 1. write code to print the first and third elements of each list\n",
    "\n",
    "print(ages[0])\n",
    "print(ages[2])\n",
    "print(names[0])\n",
    "print(names[2])\n",
    "print(stuff[0])\n",
    "print(stuff[2])"
   ]
  },
  {
   "cell_type": "code",
   "execution_count": 4,
   "metadata": {},
   "outputs": [
    {
     "name": "stdout",
     "output_type": "stream",
     "text": [
      "[99, 51, 3, 55]\n",
      "['jim', 'mary', 'carrie', 'zin']\n",
      "['eighteen', 6, ['another', 'list']]\n"
     ]
    }
   ],
   "source": [
    "# 2. write code to select and print everything except the first element of each list\n",
    "\n",
    "print(ages[1:])\n",
    "print(names[1:])\n",
    "print(stuff[1:])"
   ]
  },
  {
   "cell_type": "code",
   "execution_count": 5,
   "metadata": {},
   "outputs": [
    {
     "name": "stdout",
     "output_type": "stream",
     "text": [
      "steve\n",
      "jim\n",
      "mary\n",
      "carrie\n",
      "zin\n"
     ]
    }
   ],
   "source": [
    "# 3.write a for loop that prints each element of the 'names' list\n",
    "\n",
    "for n in names:\n",
    "    print(n)"
   ]
  },
  {
   "cell_type": "code",
   "execution_count": 6,
   "metadata": {},
   "outputs": [
    {
     "data": {
      "text/plain": [
       "[12, 'eighteen', 6, ['another', 'list']]"
      ]
     },
     "execution_count": 6,
     "metadata": {},
     "output_type": "execute_result"
    }
   ],
   "source": [
    "ages\n",
    "names\n",
    "stuff"
   ]
  },
  {
   "cell_type": "markdown",
   "metadata": {},
   "source": [
    "A dictionary is an associative array - it associates a value (any Python data type) with a key. The key is usually a string but can be any immutable type (string, number, tuple).  Here's some code that counts the occurence of words in a string.  It stores the count for each word in a dictionary using the word as a key. If the word is already stored in the dictionary, it adds one to the count, if not, it initialises the count to one.  \n",
    "\n",
    "The second for loop iterates over the keys in the dictionary and prints one line per entry.\n",
    "\n",
    "Modify this example to be a bit smarter:\n",
    "- make sure that punctuation characters are not included as parts of a word, be careful with hyphens - should they be included or not?\n",
    "- make the count use the lowercase version of a word, so that 'The' and 'the' are counted as the same word\n",
    "- **Challenge**: find the first and second most frequent words in the text\n",
    "- **Challenge**: take your code and write it as a function that takes a string and returns a list of words with their counts in order"
   ]
  },
  {
   "cell_type": "code",
   "execution_count": 7,
   "metadata": {},
   "outputs": [
    {
     "data": {
      "text/plain": [
       "['this',\n",
       " 'unit',\n",
       " 'introduces',\n",
       " 'students',\n",
       " 'to',\n",
       " 'the',\n",
       " 'fundamental',\n",
       " 'techniques',\n",
       " 'and',\n",
       " 'tools',\n",
       " 'of',\n",
       " 'data',\n",
       " 'science,',\n",
       " 'such',\n",
       " 'as',\n",
       " 'the',\n",
       " 'graphical',\n",
       " 'display',\n",
       " 'of',\n",
       " 'data,',\n",
       " 'predictive',\n",
       " 'models,',\n",
       " 'evaluation',\n",
       " 'methodologies,',\n",
       " 'regression,',\n",
       " 'classification',\n",
       " 'and',\n",
       " 'clustering.',\n",
       " 'the',\n",
       " 'unit',\n",
       " 'provides',\n",
       " 'practical',\n",
       " 'experience',\n",
       " 'applying',\n",
       " 'these',\n",
       " 'methods',\n",
       " 'using',\n",
       " 'industry-standard',\n",
       " 'software',\n",
       " 'tools',\n",
       " 'to',\n",
       " 'real-world',\n",
       " 'data',\n",
       " 'sets.',\n",
       " 'students',\n",
       " 'who',\n",
       " 'have',\n",
       " 'completed',\n",
       " 'this',\n",
       " 'unit',\n",
       " 'will',\n",
       " 'be',\n",
       " 'able',\n",
       " 'to',\n",
       " 'identify',\n",
       " 'which',\n",
       " 'data',\n",
       " 'science',\n",
       " 'methods',\n",
       " 'are',\n",
       " 'most',\n",
       " 'appropriate',\n",
       " 'for',\n",
       " 'a',\n",
       " 'real-world',\n",
       " 'data',\n",
       " 'set,',\n",
       " 'apply',\n",
       " 'these',\n",
       " 'methods',\n",
       " 'to',\n",
       " 'the',\n",
       " 'data',\n",
       " 'set,',\n",
       " 'and',\n",
       " 'interpret',\n",
       " 'the',\n",
       " 'results',\n",
       " 'of',\n",
       " 'the',\n",
       " 'analysis',\n",
       " 'they',\n",
       " 'have',\n",
       " 'performed.']"
      ]
     },
     "execution_count": 7,
     "metadata": {},
     "output_type": "execute_result"
    }
   ],
   "source": [
    "description = \"\"\"This unit introduces students to the fundamental techniques and \n",
    "tools of data science, such as the graphical display of data, \n",
    "predictive models, evaluation methodologies, regression, \n",
    "classification and clustering. The unit provides practical \n",
    "experience applying these methods using industry-standard \n",
    "software tools to real-world data sets. Students who have \n",
    "completed this unit will be able to identify which data \n",
    "science methods are most appropriate for a real-world data \n",
    "set, apply these methods to the data set, and interpret the \n",
    "results of the analysis they have performed. \"\"\"\n",
    "\n",
    "# uporer likha gulo k lowercase a kore then split kora hoise\n",
    "\n",
    "description.lower().split()\n"
   ]
  },
  {
   "cell_type": "markdown",
   "metadata": {},
   "source": [
    "##### Challenge: find the first and second most frequent words in the text"
   ]
  },
  {
   "cell_type": "code",
   "execution_count": 8,
   "metadata": {},
   "outputs": [
    {
     "name": "stdout",
     "output_type": "stream",
     "text": [
      "this 2\n",
      "unit 3\n",
      "introduces 1\n",
      "students 2\n",
      "to 4\n",
      "the 6\n",
      "fundamental 1\n",
      "techniques 1\n",
      "and 3\n",
      "tools 2\n",
      "of 3\n",
      "data 5\n",
      "science, 1\n",
      "such 1\n",
      "as 1\n",
      "graphical 1\n",
      "display 1\n",
      "data, 1\n",
      "predictive 1\n",
      "models, 1\n",
      "evaluation 1\n",
      "methodologies, 1\n",
      "regression, 1\n",
      "classification 1\n",
      "clustering. 1\n",
      "provides 1\n",
      "practical 1\n",
      "experience 1\n",
      "applying 1\n",
      "these 2\n",
      "methods 3\n",
      "using 1\n",
      "industry-standard 1\n",
      "software 1\n",
      "real-world 2\n",
      "sets. 1\n",
      "who 1\n",
      "have 2\n",
      "completed 1\n",
      "will 1\n",
      "be 1\n",
      "able 1\n",
      "identify 1\n",
      "which 1\n",
      "science 1\n",
      "are 1\n",
      "most 1\n",
      "appropriate 1\n",
      "for 1\n",
      "a 1\n",
      "set, 2\n",
      "apply 1\n",
      "interpret 1\n",
      "results 1\n",
      "analysis 1\n",
      "they 1\n",
      "performed. 1\n"
     ]
    }
   ],
   "source": [
    "# ekhane amra word count korbo konta kotobar ase ta dekhar jonno\n",
    "# for loop use koreo count kora jai abar niche counter method ase oita use koreo\n",
    "# eta likhar karon hocche count a j result ashbe ta dict() data type akare ashe. eta charao output ashbe \n",
    "count = dict()\n",
    "for word in description.lower().split():\n",
    "    if word in count:\n",
    "        count[word] += 1\n",
    "    else:\n",
    "        count[word] = 1\n",
    "        \n",
    "for word in count:\n",
    "    print(word, count[word])"
   ]
  },
  {
   "cell_type": "code",
   "execution_count": 9,
   "metadata": {},
   "outputs": [],
   "source": [
    "# Python Counter tool, you can count the key-value pairs in an object, also called a hashtable object.\n",
    "# The Counter holds the data in an unordered collection, just like hashtable objects.\n",
    "# The elements here represent the keys and the count as values. It allows you to count the items in an iterable list.\n",
    "\n",
    "from collections import Counter\n",
    "Counter?"
   ]
  },
  {
   "cell_type": "code",
   "execution_count": 10,
   "metadata": {},
   "outputs": [
    {
     "data": {
      "text/plain": [
       "Counter({'this': 2,\n",
       "         'unit': 3,\n",
       "         'introduces': 1,\n",
       "         'students': 2,\n",
       "         'to': 4,\n",
       "         'the': 6,\n",
       "         'fundamental': 1,\n",
       "         'techniques': 1,\n",
       "         'and': 3,\n",
       "         'tools': 2,\n",
       "         'of': 3,\n",
       "         'data': 5,\n",
       "         'science,': 1,\n",
       "         'such': 1,\n",
       "         'as': 1,\n",
       "         'graphical': 1,\n",
       "         'display': 1,\n",
       "         'data,': 1,\n",
       "         'predictive': 1,\n",
       "         'models,': 1,\n",
       "         'evaluation': 1,\n",
       "         'methodologies,': 1,\n",
       "         'regression,': 1,\n",
       "         'classification': 1,\n",
       "         'clustering.': 1,\n",
       "         'provides': 1,\n",
       "         'practical': 1,\n",
       "         'experience': 1,\n",
       "         'applying': 1,\n",
       "         'these': 2,\n",
       "         'methods': 3,\n",
       "         'using': 1,\n",
       "         'industry-standard': 1,\n",
       "         'software': 1,\n",
       "         'real-world': 2,\n",
       "         'sets.': 1,\n",
       "         'who': 1,\n",
       "         'have': 2,\n",
       "         'completed': 1,\n",
       "         'will': 1,\n",
       "         'be': 1,\n",
       "         'able': 1,\n",
       "         'identify': 1,\n",
       "         'which': 1,\n",
       "         'science': 1,\n",
       "         'are': 1,\n",
       "         'most': 1,\n",
       "         'appropriate': 1,\n",
       "         'for': 1,\n",
       "         'a': 1,\n",
       "         'set,': 2,\n",
       "         'apply': 1,\n",
       "         'interpret': 1,\n",
       "         'results': 1,\n",
       "         'analysis': 1,\n",
       "         'they': 1,\n",
       "         'performed.': 1})"
      ]
     },
     "execution_count": 10,
     "metadata": {},
     "output_type": "execute_result"
    }
   ],
   "source": [
    "# ekhane description variable theke count korbo\n",
    "# Counter function use koreo count kora jai\n",
    "\n",
    "Counter(description.lower().split())"
   ]
  },
  {
   "cell_type": "markdown",
   "metadata": {},
   "source": [
    "##### Challenge: take your code and write it as a function that takes a string and returns a list of words with their counts in order"
   ]
  },
  {
   "cell_type": "code",
   "execution_count": 11,
   "metadata": {},
   "outputs": [
    {
     "data": {
      "text/plain": [
       "['my',\n",
       " 'wonderful',\n",
       " 'family',\n",
       " 'i',\n",
       " 'live',\n",
       " 'in',\n",
       " 'a',\n",
       " 'house',\n",
       " 'near',\n",
       " 'the',\n",
       " 'mountains.',\n",
       " 'i',\n",
       " 'have',\n",
       " 'two',\n",
       " 'brothers',\n",
       " 'and',\n",
       " 'one',\n",
       " 'sister,',\n",
       " 'and',\n",
       " 'i',\n",
       " 'was',\n",
       " 'born',\n",
       " 'last.',\n",
       " 'my',\n",
       " 'father',\n",
       " 'teaches',\n",
       " 'mathematics,',\n",
       " 'and',\n",
       " 'my',\n",
       " 'mother',\n",
       " 'is',\n",
       " 'a',\n",
       " 'nurse',\n",
       " 'at',\n",
       " 'a',\n",
       " 'big',\n",
       " 'hospital.',\n",
       " 'my',\n",
       " 'brothers',\n",
       " 'are',\n",
       " 'very',\n",
       " 'smart',\n",
       " 'and',\n",
       " 'work',\n",
       " 'hard',\n",
       " 'in',\n",
       " 'school.',\n",
       " 'my',\n",
       " 'sister',\n",
       " 'is',\n",
       " 'a',\n",
       " 'nervous',\n",
       " 'girl,',\n",
       " 'but',\n",
       " 'she',\n",
       " 'is',\n",
       " 'very',\n",
       " 'kind.',\n",
       " 'my',\n",
       " 'grandmother',\n",
       " 'also',\n",
       " 'lives',\n",
       " 'with',\n",
       " 'us.',\n",
       " 'she',\n",
       " 'came',\n",
       " 'from',\n",
       " 'italy',\n",
       " 'when',\n",
       " 'i',\n",
       " 'was',\n",
       " 'two',\n",
       " 'years',\n",
       " 'old.',\n",
       " 'she',\n",
       " 'has',\n",
       " 'grown',\n",
       " 'old,',\n",
       " 'but',\n",
       " 'she',\n",
       " 'is',\n",
       " 'still',\n",
       " 'very',\n",
       " 'strong.',\n",
       " 'she',\n",
       " 'cooks',\n",
       " 'the',\n",
       " 'best',\n",
       " 'food!',\n",
       " 'my',\n",
       " 'family',\n",
       " 'is',\n",
       " 'very',\n",
       " 'important',\n",
       " 'to',\n",
       " 'me.',\n",
       " 'we',\n",
       " 'do',\n",
       " 'lots',\n",
       " 'of',\n",
       " 'things',\n",
       " 'together.',\n",
       " 'my',\n",
       " 'brothers',\n",
       " 'and',\n",
       " 'i',\n",
       " 'like',\n",
       " 'to',\n",
       " 'go',\n",
       " 'on',\n",
       " 'long',\n",
       " 'walks',\n",
       " 'in',\n",
       " 'the',\n",
       " 'mountains.',\n",
       " 'my',\n",
       " 'sister',\n",
       " 'likes',\n",
       " 'to',\n",
       " 'cook',\n",
       " 'with',\n",
       " 'my',\n",
       " 'grandmother.',\n",
       " 'on',\n",
       " 'the',\n",
       " 'weekends',\n",
       " 'we',\n",
       " 'all',\n",
       " 'play',\n",
       " 'board',\n",
       " 'games',\n",
       " 'together.',\n",
       " 'we',\n",
       " 'laugh',\n",
       " 'and',\n",
       " 'always',\n",
       " 'have',\n",
       " 'a',\n",
       " 'good',\n",
       " 'time.',\n",
       " 'i',\n",
       " 'love',\n",
       " 'my',\n",
       " 'family',\n",
       " 'very',\n",
       " 'much.']"
      ]
     },
     "execution_count": 11,
     "metadata": {},
     "output_type": "execute_result"
    }
   ],
   "source": [
    "mystring = \"\"\"\n",
    "My Wonderful Family\n",
    "I live in a house near the mountains. I have two brothers and one sister, \n",
    "and I was born last. My father teaches mathematics, and my mother is a nurse at a big hospital.\n",
    "My brothers are very smart and work hard in school. My sister is a nervous girl, but she is very kind.\n",
    "My grandmother also lives with us. She came from Italy when I was two years old. She has grown old, \n",
    "but she is still very strong. She cooks the best food!\n",
    "My family is very important to me. We do lots of things together. \n",
    "My brothers and I like to go on long walks in the mountains.\n",
    "My sister likes to cook with my grandmother. On the weekends we all play board games together. \n",
    "We laugh and always have a good time. I love my family very much.\n",
    "\"\"\"\n",
    "\n",
    "mystring.lower().split()"
   ]
  },
  {
   "cell_type": "code",
   "execution_count": 12,
   "metadata": {},
   "outputs": [
    {
     "name": "stdout",
     "output_type": "stream",
     "text": [
      "my 11\n",
      "wonderful 1\n",
      "family 3\n",
      "i 6\n",
      "live 1\n",
      "in 3\n",
      "a 5\n",
      "house 1\n",
      "near 1\n",
      "the 4\n",
      "mountains. 2\n",
      "have 2\n",
      "two 2\n",
      "brothers 3\n",
      "and 6\n",
      "one 1\n",
      "sister, 1\n",
      "was 2\n",
      "born 1\n",
      "last. 1\n",
      "father 1\n",
      "teaches 1\n",
      "mathematics, 1\n",
      "mother 1\n",
      "is 5\n",
      "nurse 1\n",
      "at 1\n",
      "big 1\n",
      "hospital. 1\n",
      "are 1\n",
      "very 5\n",
      "smart 1\n",
      "work 1\n",
      "hard 1\n",
      "school. 1\n",
      "sister 2\n",
      "nervous 1\n",
      "girl, 1\n",
      "but 2\n",
      "she 5\n",
      "kind. 1\n",
      "grandmother 1\n",
      "also 1\n",
      "lives 1\n",
      "with 2\n",
      "us. 1\n",
      "came 1\n",
      "from 1\n",
      "italy 1\n",
      "when 1\n",
      "years 1\n",
      "old. 1\n",
      "has 1\n",
      "grown 1\n",
      "old, 1\n",
      "still 1\n",
      "strong. 1\n",
      "cooks 1\n",
      "best 1\n",
      "food! 1\n",
      "important 1\n",
      "to 3\n",
      "me. 1\n",
      "we 3\n",
      "do 1\n",
      "lots 1\n",
      "of 1\n",
      "things 1\n",
      "together. 2\n",
      "like 1\n",
      "go 1\n",
      "on 2\n",
      "long 1\n",
      "walks 1\n",
      "likes 1\n",
      "cook 1\n",
      "grandmother. 1\n",
      "weekends 1\n",
      "all 1\n",
      "play 1\n",
      "board 1\n",
      "games 1\n",
      "laugh 1\n",
      "always 1\n",
      "good 1\n",
      "time. 1\n",
      "love 1\n",
      "much. 1\n"
     ]
    }
   ],
   "source": [
    "count = dict()\n",
    "\n",
    "for word in mystring.lower().split():\n",
    "    if word in count:\n",
    "        count[word] += 1\n",
    "    else:\n",
    "        count[word] = 1\n",
    "        \n",
    "for word in count:\n",
    "    print(word, count[word])"
   ]
  },
  {
   "cell_type": "code",
   "execution_count": null,
   "metadata": {},
   "outputs": [],
   "source": []
  },
  {
   "cell_type": "markdown",
   "metadata": {},
   "source": [
    "## Pandas Data Frames\n",
    "\n",
    "[Pandas](https://pandas.pydata.org) is a Python module that provides some important data structures for Data Science work and a large collection of methods for data analysis. \n",
    "\n",
    "The two main data structures are the [Series]() and [DataFrame](http://pandas.pydata.org/pandas-docs/stable/dsintro.html#dataframe).  \n",
    "\n",
    "A Series is a one dimensional array of data, but unlike the Python list the data is indexed - the index is like the dictionary key, any immutable value like a number or string.  You can use the label to select elements from the series as well as positional values.  \n",
    "\n",
    "A DataFrame is analogous to a spreadsheet - a two dimensional table of data with indexed rows and named columns. \n",
    "\n",
    "You should read up on these and follow the examples in the text.  Here are a few exercises to complete with data frames."
   ]
  },
  {
   "cell_type": "markdown",
   "metadata": {},
   "source": [
    "You are given three csv files containing sample data."
   ]
  },
  {
   "cell_type": "code",
   "execution_count": 13,
   "metadata": {},
   "outputs": [],
   "source": [
    "import pandas as pd\n",
    "import numpy as np\n",
    "import matplotlib.pyplot as plt\n",
    "%matplotlib inline\n",
    "\n",
    "ds1 = 'files/ds1.csv'\n",
    "ds2 = 'files/ds2.csv'\n",
    "ds3 = 'files/ds3.csv'"
   ]
  },
  {
   "cell_type": "markdown",
   "metadata": {},
   "source": [
    "Write code below to read one of these data files into a pandas data frame and:\n",
    "- show the first few rows: .head\n",
    "- find the summary data for each column: .describe\n",
    "- select just those rows where the value of x and y is over 50\n",
    "- select the column 'x' and create a series\n",
    "- plot the 'x' series as a line graph\n",
    "- plot the dataframe as a scatterplot\n",
    "\n",
    "Once you have the code for this, you can change the file you use for input of the data (ds2, ds3) and re-run the following cells to see the different output that is generated"
   ]
  },
  {
   "cell_type": "code",
   "execution_count": 14,
   "metadata": {},
   "outputs": [
    {
     "data": {
      "text/html": [
       "<div>\n",
       "<style scoped>\n",
       "    .dataframe tbody tr th:only-of-type {\n",
       "        vertical-align: middle;\n",
       "    }\n",
       "\n",
       "    .dataframe tbody tr th {\n",
       "        vertical-align: top;\n",
       "    }\n",
       "\n",
       "    .dataframe thead th {\n",
       "        text-align: right;\n",
       "    }\n",
       "</style>\n",
       "<table border=\"1\" class=\"dataframe\">\n",
       "  <thead>\n",
       "    <tr style=\"text-align: right;\">\n",
       "      <th></th>\n",
       "      <th>x</th>\n",
       "      <th>y</th>\n",
       "    </tr>\n",
       "  </thead>\n",
       "  <tbody>\n",
       "    <tr>\n",
       "      <th>0</th>\n",
       "      <td>55.3846</td>\n",
       "      <td>97.1795</td>\n",
       "    </tr>\n",
       "    <tr>\n",
       "      <th>1</th>\n",
       "      <td>51.5385</td>\n",
       "      <td>96.0256</td>\n",
       "    </tr>\n",
       "    <tr>\n",
       "      <th>2</th>\n",
       "      <td>46.1538</td>\n",
       "      <td>94.4872</td>\n",
       "    </tr>\n",
       "    <tr>\n",
       "      <th>3</th>\n",
       "      <td>42.8205</td>\n",
       "      <td>91.4103</td>\n",
       "    </tr>\n",
       "    <tr>\n",
       "      <th>4</th>\n",
       "      <td>40.7692</td>\n",
       "      <td>88.3333</td>\n",
       "    </tr>\n",
       "  </tbody>\n",
       "</table>\n",
       "</div>"
      ],
      "text/plain": [
       "         x        y\n",
       "0  55.3846  97.1795\n",
       "1  51.5385  96.0256\n",
       "2  46.1538  94.4872\n",
       "3  42.8205  91.4103\n",
       "4  40.7692  88.3333"
      ]
     },
     "execution_count": 14,
     "metadata": {},
     "output_type": "execute_result"
    }
   ],
   "source": [
    "# show the first few rows\n",
    "\n",
    "ds11 = pd.read_csv('ds1.csv')\n",
    "ds11.head()"
   ]
  },
  {
   "cell_type": "code",
   "execution_count": 15,
   "metadata": {},
   "outputs": [
    {
     "data": {
      "text/html": [
       "<div>\n",
       "<style scoped>\n",
       "    .dataframe tbody tr th:only-of-type {\n",
       "        vertical-align: middle;\n",
       "    }\n",
       "\n",
       "    .dataframe tbody tr th {\n",
       "        vertical-align: top;\n",
       "    }\n",
       "\n",
       "    .dataframe thead th {\n",
       "        text-align: right;\n",
       "    }\n",
       "</style>\n",
       "<table border=\"1\" class=\"dataframe\">\n",
       "  <thead>\n",
       "    <tr style=\"text-align: right;\">\n",
       "      <th></th>\n",
       "      <th>x</th>\n",
       "      <th>y</th>\n",
       "    </tr>\n",
       "  </thead>\n",
       "  <tbody>\n",
       "    <tr>\n",
       "      <th>0</th>\n",
       "      <td>32.331110</td>\n",
       "      <td>61.411101</td>\n",
       "    </tr>\n",
       "    <tr>\n",
       "      <th>1</th>\n",
       "      <td>53.421463</td>\n",
       "      <td>26.186880</td>\n",
       "    </tr>\n",
       "    <tr>\n",
       "      <th>2</th>\n",
       "      <td>63.920202</td>\n",
       "      <td>30.832194</td>\n",
       "    </tr>\n",
       "    <tr>\n",
       "      <th>3</th>\n",
       "      <td>70.289506</td>\n",
       "      <td>82.533649</td>\n",
       "    </tr>\n",
       "    <tr>\n",
       "      <th>4</th>\n",
       "      <td>34.118830</td>\n",
       "      <td>45.734551</td>\n",
       "    </tr>\n",
       "  </tbody>\n",
       "</table>\n",
       "</div>"
      ],
      "text/plain": [
       "           x          y\n",
       "0  32.331110  61.411101\n",
       "1  53.421463  26.186880\n",
       "2  63.920202  30.832194\n",
       "3  70.289506  82.533649\n",
       "4  34.118830  45.734551"
      ]
     },
     "execution_count": 15,
     "metadata": {},
     "output_type": "execute_result"
    }
   ],
   "source": [
    "ds22 = pd.read_csv('ds2.csv')\n",
    "ds22.head()"
   ]
  },
  {
   "cell_type": "code",
   "execution_count": 16,
   "metadata": {},
   "outputs": [
    {
     "data": {
      "text/html": [
       "<div>\n",
       "<style scoped>\n",
       "    .dataframe tbody tr th:only-of-type {\n",
       "        vertical-align: middle;\n",
       "    }\n",
       "\n",
       "    .dataframe tbody tr th {\n",
       "        vertical-align: top;\n",
       "    }\n",
       "\n",
       "    .dataframe thead th {\n",
       "        text-align: right;\n",
       "    }\n",
       "</style>\n",
       "<table border=\"1\" class=\"dataframe\">\n",
       "  <thead>\n",
       "    <tr style=\"text-align: right;\">\n",
       "      <th></th>\n",
       "      <th>x</th>\n",
       "      <th>y</th>\n",
       "    </tr>\n",
       "  </thead>\n",
       "  <tbody>\n",
       "    <tr>\n",
       "      <th>0</th>\n",
       "      <td>58.213608</td>\n",
       "      <td>91.881892</td>\n",
       "    </tr>\n",
       "    <tr>\n",
       "      <th>1</th>\n",
       "      <td>58.196054</td>\n",
       "      <td>92.214989</td>\n",
       "    </tr>\n",
       "    <tr>\n",
       "      <th>2</th>\n",
       "      <td>58.718231</td>\n",
       "      <td>90.310532</td>\n",
       "    </tr>\n",
       "    <tr>\n",
       "      <th>3</th>\n",
       "      <td>57.278373</td>\n",
       "      <td>89.907607</td>\n",
       "    </tr>\n",
       "    <tr>\n",
       "      <th>4</th>\n",
       "      <td>58.082020</td>\n",
       "      <td>92.008145</td>\n",
       "    </tr>\n",
       "  </tbody>\n",
       "</table>\n",
       "</div>"
      ],
      "text/plain": [
       "           x          y\n",
       "0  58.213608  91.881892\n",
       "1  58.196054  92.214989\n",
       "2  58.718231  90.310532\n",
       "3  57.278373  89.907607\n",
       "4  58.082020  92.008145"
      ]
     },
     "execution_count": 16,
     "metadata": {},
     "output_type": "execute_result"
    }
   ],
   "source": [
    "ds33 = pd.read_csv(\"ds3.csv\")\n",
    "ds33.head()"
   ]
  },
  {
   "cell_type": "code",
   "execution_count": 17,
   "metadata": {},
   "outputs": [
    {
     "data": {
      "text/html": [
       "<div>\n",
       "<style scoped>\n",
       "    .dataframe tbody tr th:only-of-type {\n",
       "        vertical-align: middle;\n",
       "    }\n",
       "\n",
       "    .dataframe tbody tr th {\n",
       "        vertical-align: top;\n",
       "    }\n",
       "\n",
       "    .dataframe thead th {\n",
       "        text-align: right;\n",
       "    }\n",
       "</style>\n",
       "<table border=\"1\" class=\"dataframe\">\n",
       "  <thead>\n",
       "    <tr style=\"text-align: right;\">\n",
       "      <th></th>\n",
       "      <th>x</th>\n",
       "      <th>y</th>\n",
       "    </tr>\n",
       "  </thead>\n",
       "  <tbody>\n",
       "    <tr>\n",
       "      <th>count</th>\n",
       "      <td>142.000000</td>\n",
       "      <td>142.000000</td>\n",
       "    </tr>\n",
       "    <tr>\n",
       "      <th>mean</th>\n",
       "      <td>54.263273</td>\n",
       "      <td>47.832253</td>\n",
       "    </tr>\n",
       "    <tr>\n",
       "      <th>std</th>\n",
       "      <td>16.765142</td>\n",
       "      <td>26.935403</td>\n",
       "    </tr>\n",
       "    <tr>\n",
       "      <th>min</th>\n",
       "      <td>22.307700</td>\n",
       "      <td>2.948700</td>\n",
       "    </tr>\n",
       "    <tr>\n",
       "      <th>25%</th>\n",
       "      <td>44.102600</td>\n",
       "      <td>25.288450</td>\n",
       "    </tr>\n",
       "    <tr>\n",
       "      <th>50%</th>\n",
       "      <td>53.333300</td>\n",
       "      <td>46.025600</td>\n",
       "    </tr>\n",
       "    <tr>\n",
       "      <th>75%</th>\n",
       "      <td>64.743600</td>\n",
       "      <td>68.525675</td>\n",
       "    </tr>\n",
       "    <tr>\n",
       "      <th>max</th>\n",
       "      <td>98.205100</td>\n",
       "      <td>99.487200</td>\n",
       "    </tr>\n",
       "  </tbody>\n",
       "</table>\n",
       "</div>"
      ],
      "text/plain": [
       "                x           y\n",
       "count  142.000000  142.000000\n",
       "mean    54.263273   47.832253\n",
       "std     16.765142   26.935403\n",
       "min     22.307700    2.948700\n",
       "25%     44.102600   25.288450\n",
       "50%     53.333300   46.025600\n",
       "75%     64.743600   68.525675\n",
       "max     98.205100   99.487200"
      ]
     },
     "execution_count": 17,
     "metadata": {},
     "output_type": "execute_result"
    }
   ],
   "source": [
    "# find the summary data for each column\n",
    "\n",
    "ds11.describe()"
   ]
  },
  {
   "cell_type": "code",
   "execution_count": 18,
   "metadata": {},
   "outputs": [
    {
     "data": {
      "text/html": [
       "<div>\n",
       "<style scoped>\n",
       "    .dataframe tbody tr th:only-of-type {\n",
       "        vertical-align: middle;\n",
       "    }\n",
       "\n",
       "    .dataframe tbody tr th {\n",
       "        vertical-align: top;\n",
       "    }\n",
       "\n",
       "    .dataframe thead th {\n",
       "        text-align: right;\n",
       "    }\n",
       "</style>\n",
       "<table border=\"1\" class=\"dataframe\">\n",
       "  <thead>\n",
       "    <tr style=\"text-align: right;\">\n",
       "      <th></th>\n",
       "      <th>x</th>\n",
       "      <th>y</th>\n",
       "    </tr>\n",
       "  </thead>\n",
       "  <tbody>\n",
       "    <tr>\n",
       "      <th>count</th>\n",
       "      <td>142.000000</td>\n",
       "      <td>142.000000</td>\n",
       "    </tr>\n",
       "    <tr>\n",
       "      <th>mean</th>\n",
       "      <td>54.266100</td>\n",
       "      <td>47.834721</td>\n",
       "    </tr>\n",
       "    <tr>\n",
       "      <th>std</th>\n",
       "      <td>16.769825</td>\n",
       "      <td>26.939743</td>\n",
       "    </tr>\n",
       "    <tr>\n",
       "      <th>min</th>\n",
       "      <td>15.560750</td>\n",
       "      <td>0.015119</td>\n",
       "    </tr>\n",
       "    <tr>\n",
       "      <th>25%</th>\n",
       "      <td>39.724115</td>\n",
       "      <td>24.625892</td>\n",
       "    </tr>\n",
       "    <tr>\n",
       "      <th>50%</th>\n",
       "      <td>53.340296</td>\n",
       "      <td>47.535269</td>\n",
       "    </tr>\n",
       "    <tr>\n",
       "      <th>75%</th>\n",
       "      <td>69.146597</td>\n",
       "      <td>71.803148</td>\n",
       "    </tr>\n",
       "    <tr>\n",
       "      <th>max</th>\n",
       "      <td>91.639961</td>\n",
       "      <td>97.475771</td>\n",
       "    </tr>\n",
       "  </tbody>\n",
       "</table>\n",
       "</div>"
      ],
      "text/plain": [
       "                x           y\n",
       "count  142.000000  142.000000\n",
       "mean    54.266100   47.834721\n",
       "std     16.769825   26.939743\n",
       "min     15.560750    0.015119\n",
       "25%     39.724115   24.625892\n",
       "50%     53.340296   47.535269\n",
       "75%     69.146597   71.803148\n",
       "max     91.639961   97.475771"
      ]
     },
     "execution_count": 18,
     "metadata": {},
     "output_type": "execute_result"
    }
   ],
   "source": [
    "ds22.describe()"
   ]
  },
  {
   "cell_type": "code",
   "execution_count": 19,
   "metadata": {},
   "outputs": [
    {
     "data": {
      "text/html": [
       "<div>\n",
       "<style scoped>\n",
       "    .dataframe tbody tr th:only-of-type {\n",
       "        vertical-align: middle;\n",
       "    }\n",
       "\n",
       "    .dataframe tbody tr th {\n",
       "        vertical-align: top;\n",
       "    }\n",
       "\n",
       "    .dataframe thead th {\n",
       "        text-align: right;\n",
       "    }\n",
       "</style>\n",
       "<table border=\"1\" class=\"dataframe\">\n",
       "  <thead>\n",
       "    <tr style=\"text-align: right;\">\n",
       "      <th></th>\n",
       "      <th>x</th>\n",
       "      <th>y</th>\n",
       "    </tr>\n",
       "  </thead>\n",
       "  <tbody>\n",
       "    <tr>\n",
       "      <th>count</th>\n",
       "      <td>142.000000</td>\n",
       "      <td>142.000000</td>\n",
       "    </tr>\n",
       "    <tr>\n",
       "      <th>mean</th>\n",
       "      <td>54.267341</td>\n",
       "      <td>47.839545</td>\n",
       "    </tr>\n",
       "    <tr>\n",
       "      <th>std</th>\n",
       "      <td>16.768959</td>\n",
       "      <td>26.930275</td>\n",
       "    </tr>\n",
       "    <tr>\n",
       "      <th>min</th>\n",
       "      <td>27.024603</td>\n",
       "      <td>14.365590</td>\n",
       "    </tr>\n",
       "    <tr>\n",
       "      <th>25%</th>\n",
       "      <td>41.034210</td>\n",
       "      <td>20.374135</td>\n",
       "    </tr>\n",
       "    <tr>\n",
       "      <th>50%</th>\n",
       "      <td>56.534732</td>\n",
       "      <td>50.110554</td>\n",
       "    </tr>\n",
       "    <tr>\n",
       "      <th>75%</th>\n",
       "      <td>68.711493</td>\n",
       "      <td>63.548584</td>\n",
       "    </tr>\n",
       "    <tr>\n",
       "      <th>max</th>\n",
       "      <td>86.435897</td>\n",
       "      <td>92.214989</td>\n",
       "    </tr>\n",
       "  </tbody>\n",
       "</table>\n",
       "</div>"
      ],
      "text/plain": [
       "                x           y\n",
       "count  142.000000  142.000000\n",
       "mean    54.267341   47.839545\n",
       "std     16.768959   26.930275\n",
       "min     27.024603   14.365590\n",
       "25%     41.034210   20.374135\n",
       "50%     56.534732   50.110554\n",
       "75%     68.711493   63.548584\n",
       "max     86.435897   92.214989"
      ]
     },
     "execution_count": 19,
     "metadata": {},
     "output_type": "execute_result"
    }
   ],
   "source": [
    "ds33.describe()"
   ]
  },
  {
   "cell_type": "code",
   "execution_count": 20,
   "metadata": {},
   "outputs": [
    {
     "data": {
      "text/html": [
       "<div>\n",
       "<style scoped>\n",
       "    .dataframe tbody tr th:only-of-type {\n",
       "        vertical-align: middle;\n",
       "    }\n",
       "\n",
       "    .dataframe tbody tr th {\n",
       "        vertical-align: top;\n",
       "    }\n",
       "\n",
       "    .dataframe thead th {\n",
       "        text-align: right;\n",
       "    }\n",
       "</style>\n",
       "<table border=\"1\" class=\"dataframe\">\n",
       "  <thead>\n",
       "    <tr style=\"text-align: right;\">\n",
       "      <th></th>\n",
       "      <th>x</th>\n",
       "      <th>y</th>\n",
       "    </tr>\n",
       "  </thead>\n",
       "  <tbody>\n",
       "    <tr>\n",
       "      <th>0</th>\n",
       "      <td>55.3846</td>\n",
       "      <td>97.1795</td>\n",
       "    </tr>\n",
       "    <tr>\n",
       "      <th>1</th>\n",
       "      <td>51.5385</td>\n",
       "      <td>96.0256</td>\n",
       "    </tr>\n",
       "    <tr>\n",
       "      <th>22</th>\n",
       "      <td>53.0769</td>\n",
       "      <td>55.6410</td>\n",
       "    </tr>\n",
       "    <tr>\n",
       "      <th>23</th>\n",
       "      <td>56.6667</td>\n",
       "      <td>56.0256</td>\n",
       "    </tr>\n",
       "    <tr>\n",
       "      <th>24</th>\n",
       "      <td>59.2308</td>\n",
       "      <td>57.9487</td>\n",
       "    </tr>\n",
       "    <tr>\n",
       "      <th>25</th>\n",
       "      <td>61.2821</td>\n",
       "      <td>62.1795</td>\n",
       "    </tr>\n",
       "    <tr>\n",
       "      <th>26</th>\n",
       "      <td>61.5385</td>\n",
       "      <td>66.4103</td>\n",
       "    </tr>\n",
       "    <tr>\n",
       "      <th>27</th>\n",
       "      <td>61.7949</td>\n",
       "      <td>69.1026</td>\n",
       "    </tr>\n",
       "    <tr>\n",
       "      <th>28</th>\n",
       "      <td>57.4359</td>\n",
       "      <td>55.2564</td>\n",
       "    </tr>\n",
       "    <tr>\n",
       "      <th>60</th>\n",
       "      <td>70.5128</td>\n",
       "      <td>53.7180</td>\n",
       "    </tr>\n",
       "    <tr>\n",
       "      <th>61</th>\n",
       "      <td>71.5385</td>\n",
       "      <td>60.6410</td>\n",
       "    </tr>\n",
       "    <tr>\n",
       "      <th>62</th>\n",
       "      <td>71.5385</td>\n",
       "      <td>64.4872</td>\n",
       "    </tr>\n",
       "    <tr>\n",
       "      <th>63</th>\n",
       "      <td>69.4872</td>\n",
       "      <td>69.4872</td>\n",
       "    </tr>\n",
       "    <tr>\n",
       "      <th>67</th>\n",
       "      <td>53.0769</td>\n",
       "      <td>85.2564</td>\n",
       "    </tr>\n",
       "    <tr>\n",
       "      <th>68</th>\n",
       "      <td>55.3846</td>\n",
       "      <td>86.0256</td>\n",
       "    </tr>\n",
       "    <tr>\n",
       "      <th>69</th>\n",
       "      <td>56.6667</td>\n",
       "      <td>86.0256</td>\n",
       "    </tr>\n",
       "    <tr>\n",
       "      <th>70</th>\n",
       "      <td>56.1538</td>\n",
       "      <td>82.9487</td>\n",
       "    </tr>\n",
       "    <tr>\n",
       "      <th>71</th>\n",
       "      <td>53.8462</td>\n",
       "      <td>80.6410</td>\n",
       "    </tr>\n",
       "    <tr>\n",
       "      <th>72</th>\n",
       "      <td>51.2821</td>\n",
       "      <td>78.7180</td>\n",
       "    </tr>\n",
       "    <tr>\n",
       "      <th>78</th>\n",
       "      <td>57.9487</td>\n",
       "      <td>99.4872</td>\n",
       "    </tr>\n",
       "    <tr>\n",
       "      <th>79</th>\n",
       "      <td>61.7949</td>\n",
       "      <td>99.1026</td>\n",
       "    </tr>\n",
       "    <tr>\n",
       "      <th>80</th>\n",
       "      <td>64.8718</td>\n",
       "      <td>97.5641</td>\n",
       "    </tr>\n",
       "    <tr>\n",
       "      <th>81</th>\n",
       "      <td>68.4615</td>\n",
       "      <td>94.1026</td>\n",
       "    </tr>\n",
       "    <tr>\n",
       "      <th>82</th>\n",
       "      <td>70.7692</td>\n",
       "      <td>91.0256</td>\n",
       "    </tr>\n",
       "    <tr>\n",
       "      <th>83</th>\n",
       "      <td>72.0513</td>\n",
       "      <td>86.4103</td>\n",
       "    </tr>\n",
       "    <tr>\n",
       "      <th>84</th>\n",
       "      <td>73.8462</td>\n",
       "      <td>83.3333</td>\n",
       "    </tr>\n",
       "    <tr>\n",
       "      <th>85</th>\n",
       "      <td>75.1282</td>\n",
       "      <td>79.1026</td>\n",
       "    </tr>\n",
       "    <tr>\n",
       "      <th>86</th>\n",
       "      <td>76.6667</td>\n",
       "      <td>75.2564</td>\n",
       "    </tr>\n",
       "    <tr>\n",
       "      <th>87</th>\n",
       "      <td>77.6923</td>\n",
       "      <td>71.4103</td>\n",
       "    </tr>\n",
       "    <tr>\n",
       "      <th>88</th>\n",
       "      <td>79.7436</td>\n",
       "      <td>66.7949</td>\n",
       "    </tr>\n",
       "    <tr>\n",
       "      <th>89</th>\n",
       "      <td>81.7949</td>\n",
       "      <td>60.2564</td>\n",
       "    </tr>\n",
       "    <tr>\n",
       "      <th>90</th>\n",
       "      <td>83.3333</td>\n",
       "      <td>55.2564</td>\n",
       "    </tr>\n",
       "    <tr>\n",
       "      <th>91</th>\n",
       "      <td>85.1282</td>\n",
       "      <td>51.4103</td>\n",
       "    </tr>\n",
       "  </tbody>\n",
       "</table>\n",
       "</div>"
      ],
      "text/plain": [
       "          x        y\n",
       "0   55.3846  97.1795\n",
       "1   51.5385  96.0256\n",
       "22  53.0769  55.6410\n",
       "23  56.6667  56.0256\n",
       "24  59.2308  57.9487\n",
       "25  61.2821  62.1795\n",
       "26  61.5385  66.4103\n",
       "27  61.7949  69.1026\n",
       "28  57.4359  55.2564\n",
       "60  70.5128  53.7180\n",
       "61  71.5385  60.6410\n",
       "62  71.5385  64.4872\n",
       "63  69.4872  69.4872\n",
       "67  53.0769  85.2564\n",
       "68  55.3846  86.0256\n",
       "69  56.6667  86.0256\n",
       "70  56.1538  82.9487\n",
       "71  53.8462  80.6410\n",
       "72  51.2821  78.7180\n",
       "78  57.9487  99.4872\n",
       "79  61.7949  99.1026\n",
       "80  64.8718  97.5641\n",
       "81  68.4615  94.1026\n",
       "82  70.7692  91.0256\n",
       "83  72.0513  86.4103\n",
       "84  73.8462  83.3333\n",
       "85  75.1282  79.1026\n",
       "86  76.6667  75.2564\n",
       "87  77.6923  71.4103\n",
       "88  79.7436  66.7949\n",
       "89  81.7949  60.2564\n",
       "90  83.3333  55.2564\n",
       "91  85.1282  51.4103"
      ]
     },
     "execution_count": 20,
     "metadata": {},
     "output_type": "execute_result"
    }
   ],
   "source": [
    "# select just those rows where the value of x and y is over 50\n",
    "\n",
    "x150 = ds11['x']>50\n",
    "y150 = ds11['y']>50\n",
    "\n",
    "x1y1 = ds11[x150 & y150]\n",
    "x1y1"
   ]
  },
  {
   "cell_type": "code",
   "execution_count": 21,
   "metadata": {},
   "outputs": [
    {
     "data": {
      "text/html": [
       "<div>\n",
       "<style scoped>\n",
       "    .dataframe tbody tr th:only-of-type {\n",
       "        vertical-align: middle;\n",
       "    }\n",
       "\n",
       "    .dataframe tbody tr th {\n",
       "        vertical-align: top;\n",
       "    }\n",
       "\n",
       "    .dataframe thead th {\n",
       "        text-align: right;\n",
       "    }\n",
       "</style>\n",
       "<table border=\"1\" class=\"dataframe\">\n",
       "  <thead>\n",
       "    <tr style=\"text-align: right;\">\n",
       "      <th></th>\n",
       "      <th>x</th>\n",
       "      <th>y</th>\n",
       "    </tr>\n",
       "  </thead>\n",
       "  <tbody>\n",
       "    <tr>\n",
       "      <th>3</th>\n",
       "      <td>70.289506</td>\n",
       "      <td>82.533649</td>\n",
       "    </tr>\n",
       "    <tr>\n",
       "      <th>6</th>\n",
       "      <td>53.259129</td>\n",
       "      <td>97.475771</td>\n",
       "    </tr>\n",
       "    <tr>\n",
       "      <th>8</th>\n",
       "      <td>67.980539</td>\n",
       "      <td>80.957165</td>\n",
       "    </tr>\n",
       "    <tr>\n",
       "      <th>11</th>\n",
       "      <td>71.790768</td>\n",
       "      <td>71.065467</td>\n",
       "    </tr>\n",
       "    <tr>\n",
       "      <th>13</th>\n",
       "      <td>64.937436</td>\n",
       "      <td>81.554205</td>\n",
       "    </tr>\n",
       "    <tr>\n",
       "      <th>19</th>\n",
       "      <td>76.166920</td>\n",
       "      <td>75.936170</td>\n",
       "    </tr>\n",
       "    <tr>\n",
       "      <th>29</th>\n",
       "      <td>64.568264</td>\n",
       "      <td>83.639634</td>\n",
       "    </tr>\n",
       "    <tr>\n",
       "      <th>30</th>\n",
       "      <td>74.021694</td>\n",
       "      <td>76.128275</td>\n",
       "    </tr>\n",
       "    <tr>\n",
       "      <th>32</th>\n",
       "      <td>74.189037</td>\n",
       "      <td>68.133583</td>\n",
       "    </tr>\n",
       "    <tr>\n",
       "      <th>34</th>\n",
       "      <td>75.771939</td>\n",
       "      <td>69.829230</td>\n",
       "    </tr>\n",
       "    <tr>\n",
       "      <th>35</th>\n",
       "      <td>75.855229</td>\n",
       "      <td>62.517044</td>\n",
       "    </tr>\n",
       "    <tr>\n",
       "      <th>36</th>\n",
       "      <td>65.970857</td>\n",
       "      <td>72.744856</td>\n",
       "    </tr>\n",
       "    <tr>\n",
       "      <th>38</th>\n",
       "      <td>67.759796</td>\n",
       "      <td>72.421202</td>\n",
       "    </tr>\n",
       "    <tr>\n",
       "      <th>39</th>\n",
       "      <td>78.617195</td>\n",
       "      <td>52.575257</td>\n",
       "    </tr>\n",
       "    <tr>\n",
       "      <th>44</th>\n",
       "      <td>58.912460</td>\n",
       "      <td>75.667756</td>\n",
       "    </tr>\n",
       "    <tr>\n",
       "      <th>46</th>\n",
       "      <td>76.088226</td>\n",
       "      <td>59.679930</td>\n",
       "    </tr>\n",
       "    <tr>\n",
       "      <th>50</th>\n",
       "      <td>64.405075</td>\n",
       "      <td>78.584176</td>\n",
       "    </tr>\n",
       "    <tr>\n",
       "      <th>54</th>\n",
       "      <td>68.230769</td>\n",
       "      <td>80.872502</td>\n",
       "    </tr>\n",
       "    <tr>\n",
       "      <th>66</th>\n",
       "      <td>78.079421</td>\n",
       "      <td>93.133317</td>\n",
       "    </tr>\n",
       "    <tr>\n",
       "      <th>74</th>\n",
       "      <td>75.401227</td>\n",
       "      <td>88.639077</td>\n",
       "    </tr>\n",
       "    <tr>\n",
       "      <th>76</th>\n",
       "      <td>65.219914</td>\n",
       "      <td>84.682955</td>\n",
       "    </tr>\n",
       "    <tr>\n",
       "      <th>87</th>\n",
       "      <td>91.639961</td>\n",
       "      <td>79.406603</td>\n",
       "    </tr>\n",
       "    <tr>\n",
       "      <th>95</th>\n",
       "      <td>69.359559</td>\n",
       "      <td>65.521355</td>\n",
       "    </tr>\n",
       "    <tr>\n",
       "      <th>99</th>\n",
       "      <td>70.040544</td>\n",
       "      <td>77.143807</td>\n",
       "    </tr>\n",
       "    <tr>\n",
       "      <th>101</th>\n",
       "      <td>62.516891</td>\n",
       "      <td>66.484732</td>\n",
       "    </tr>\n",
       "    <tr>\n",
       "      <th>112</th>\n",
       "      <td>50.583963</td>\n",
       "      <td>71.806616</td>\n",
       "    </tr>\n",
       "    <tr>\n",
       "      <th>113</th>\n",
       "      <td>61.856465</td>\n",
       "      <td>71.792743</td>\n",
       "    </tr>\n",
       "    <tr>\n",
       "      <th>120</th>\n",
       "      <td>56.584153</td>\n",
       "      <td>70.512515</td>\n",
       "    </tr>\n",
       "    <tr>\n",
       "      <th>127</th>\n",
       "      <td>59.832185</td>\n",
       "      <td>69.152508</td>\n",
       "    </tr>\n",
       "    <tr>\n",
       "      <th>130</th>\n",
       "      <td>63.250197</td>\n",
       "      <td>65.952486</td>\n",
       "    </tr>\n",
       "    <tr>\n",
       "      <th>133</th>\n",
       "      <td>62.833293</td>\n",
       "      <td>62.510894</td>\n",
       "    </tr>\n",
       "    <tr>\n",
       "      <th>135</th>\n",
       "      <td>52.033456</td>\n",
       "      <td>64.566662</td>\n",
       "    </tr>\n",
       "    <tr>\n",
       "      <th>137</th>\n",
       "      <td>59.851838</td>\n",
       "      <td>72.958391</td>\n",
       "    </tr>\n",
       "  </tbody>\n",
       "</table>\n",
       "</div>"
      ],
      "text/plain": [
       "             x          y\n",
       "3    70.289506  82.533649\n",
       "6    53.259129  97.475771\n",
       "8    67.980539  80.957165\n",
       "11   71.790768  71.065467\n",
       "13   64.937436  81.554205\n",
       "19   76.166920  75.936170\n",
       "29   64.568264  83.639634\n",
       "30   74.021694  76.128275\n",
       "32   74.189037  68.133583\n",
       "34   75.771939  69.829230\n",
       "35   75.855229  62.517044\n",
       "36   65.970857  72.744856\n",
       "38   67.759796  72.421202\n",
       "39   78.617195  52.575257\n",
       "44   58.912460  75.667756\n",
       "46   76.088226  59.679930\n",
       "50   64.405075  78.584176\n",
       "54   68.230769  80.872502\n",
       "66   78.079421  93.133317\n",
       "74   75.401227  88.639077\n",
       "76   65.219914  84.682955\n",
       "87   91.639961  79.406603\n",
       "95   69.359559  65.521355\n",
       "99   70.040544  77.143807\n",
       "101  62.516891  66.484732\n",
       "112  50.583963  71.806616\n",
       "113  61.856465  71.792743\n",
       "120  56.584153  70.512515\n",
       "127  59.832185  69.152508\n",
       "130  63.250197  65.952486\n",
       "133  62.833293  62.510894\n",
       "135  52.033456  64.566662\n",
       "137  59.851838  72.958391"
      ]
     },
     "execution_count": 21,
     "metadata": {},
     "output_type": "execute_result"
    }
   ],
   "source": [
    "# select just those rows where the value of x and y is over 50\n",
    "\n",
    "\n",
    "x250 = ds22['x']>50\n",
    "y250 = ds22['y']>50\n",
    "\n",
    "x250y250 = ds22[x250 & y250]\n",
    "x250y250"
   ]
  },
  {
   "cell_type": "code",
   "execution_count": 22,
   "metadata": {},
   "outputs": [
    {
     "data": {
      "text/html": [
       "<div>\n",
       "<style scoped>\n",
       "    .dataframe tbody tr th:only-of-type {\n",
       "        vertical-align: middle;\n",
       "    }\n",
       "\n",
       "    .dataframe tbody tr th {\n",
       "        vertical-align: top;\n",
       "    }\n",
       "\n",
       "    .dataframe thead th {\n",
       "        text-align: right;\n",
       "    }\n",
       "</style>\n",
       "<table border=\"1\" class=\"dataframe\">\n",
       "  <thead>\n",
       "    <tr style=\"text-align: right;\">\n",
       "      <th></th>\n",
       "      <th>x</th>\n",
       "      <th>y</th>\n",
       "    </tr>\n",
       "  </thead>\n",
       "  <tbody>\n",
       "    <tr>\n",
       "      <th>0</th>\n",
       "      <td>58.213608</td>\n",
       "      <td>91.881892</td>\n",
       "    </tr>\n",
       "    <tr>\n",
       "      <th>1</th>\n",
       "      <td>58.196054</td>\n",
       "      <td>92.214989</td>\n",
       "    </tr>\n",
       "    <tr>\n",
       "      <th>2</th>\n",
       "      <td>58.718231</td>\n",
       "      <td>90.310532</td>\n",
       "    </tr>\n",
       "    <tr>\n",
       "      <th>3</th>\n",
       "      <td>57.278373</td>\n",
       "      <td>89.907607</td>\n",
       "    </tr>\n",
       "    <tr>\n",
       "      <th>4</th>\n",
       "      <td>58.082020</td>\n",
       "      <td>92.008145</td>\n",
       "    </tr>\n",
       "    <tr>\n",
       "      <th>5</th>\n",
       "      <td>57.489448</td>\n",
       "      <td>88.085286</td>\n",
       "    </tr>\n",
       "    <tr>\n",
       "      <th>24</th>\n",
       "      <td>64.892788</td>\n",
       "      <td>65.814177</td>\n",
       "    </tr>\n",
       "    <tr>\n",
       "      <th>25</th>\n",
       "      <td>62.490149</td>\n",
       "      <td>74.584290</td>\n",
       "    </tr>\n",
       "    <tr>\n",
       "      <th>26</th>\n",
       "      <td>68.988084</td>\n",
       "      <td>63.232147</td>\n",
       "    </tr>\n",
       "    <tr>\n",
       "      <th>27</th>\n",
       "      <td>62.105619</td>\n",
       "      <td>75.990871</td>\n",
       "    </tr>\n",
       "    <tr>\n",
       "      <th>61</th>\n",
       "      <td>77.392982</td>\n",
       "      <td>63.371459</td>\n",
       "    </tr>\n",
       "    <tr>\n",
       "      <th>62</th>\n",
       "      <td>64.400787</td>\n",
       "      <td>67.448718</td>\n",
       "    </tr>\n",
       "    <tr>\n",
       "      <th>63</th>\n",
       "      <td>63.868960</td>\n",
       "      <td>70.213739</td>\n",
       "    </tr>\n",
       "    <tr>\n",
       "      <th>64</th>\n",
       "      <td>56.594421</td>\n",
       "      <td>86.927006</td>\n",
       "    </tr>\n",
       "    <tr>\n",
       "      <th>65</th>\n",
       "      <td>56.531337</td>\n",
       "      <td>87.499811</td>\n",
       "    </tr>\n",
       "    <tr>\n",
       "      <th>66</th>\n",
       "      <td>59.652158</td>\n",
       "      <td>87.809462</td>\n",
       "    </tr>\n",
       "    <tr>\n",
       "      <th>67</th>\n",
       "      <td>56.636509</td>\n",
       "      <td>85.637496</td>\n",
       "    </tr>\n",
       "    <tr>\n",
       "      <th>68</th>\n",
       "      <td>58.672288</td>\n",
       "      <td>90.077160</td>\n",
       "    </tr>\n",
       "    <tr>\n",
       "      <th>69</th>\n",
       "      <td>58.221613</td>\n",
       "      <td>90.411019</td>\n",
       "    </tr>\n",
       "    <tr>\n",
       "      <th>70</th>\n",
       "      <td>57.914664</td>\n",
       "      <td>89.953803</td>\n",
       "    </tr>\n",
       "    <tr>\n",
       "      <th>71</th>\n",
       "      <td>55.315509</td>\n",
       "      <td>80.251861</td>\n",
       "    </tr>\n",
       "    <tr>\n",
       "      <th>72</th>\n",
       "      <td>54.575729</td>\n",
       "      <td>77.536288</td>\n",
       "    </tr>\n",
       "    <tr>\n",
       "      <th>73</th>\n",
       "      <td>54.413094</td>\n",
       "      <td>78.229087</td>\n",
       "    </tr>\n",
       "    <tr>\n",
       "      <th>74</th>\n",
       "      <td>55.074506</td>\n",
       "      <td>79.817546</td>\n",
       "    </tr>\n",
       "    <tr>\n",
       "      <th>78</th>\n",
       "      <td>58.461839</td>\n",
       "      <td>90.265326</td>\n",
       "    </tr>\n",
       "    <tr>\n",
       "      <th>79</th>\n",
       "      <td>57.997805</td>\n",
       "      <td>92.159909</td>\n",
       "    </tr>\n",
       "    <tr>\n",
       "      <th>80</th>\n",
       "      <td>57.549474</td>\n",
       "      <td>90.748907</td>\n",
       "    </tr>\n",
       "    <tr>\n",
       "      <th>81</th>\n",
       "      <td>59.529928</td>\n",
       "      <td>88.327274</td>\n",
       "    </tr>\n",
       "    <tr>\n",
       "      <th>82</th>\n",
       "      <td>58.249391</td>\n",
       "      <td>92.129681</td>\n",
       "    </tr>\n",
       "    <tr>\n",
       "      <th>83</th>\n",
       "      <td>58.024514</td>\n",
       "      <td>91.694421</td>\n",
       "    </tr>\n",
       "    <tr>\n",
       "      <th>84</th>\n",
       "      <td>58.382124</td>\n",
       "      <td>90.553476</td>\n",
       "    </tr>\n",
       "    <tr>\n",
       "      <th>85</th>\n",
       "      <td>62.566759</td>\n",
       "      <td>77.743935</td>\n",
       "    </tr>\n",
       "    <tr>\n",
       "      <th>86</th>\n",
       "      <td>72.175824</td>\n",
       "      <td>63.128929</td>\n",
       "    </tr>\n",
       "    <tr>\n",
       "      <th>87</th>\n",
       "      <td>79.472762</td>\n",
       "      <td>63.408686</td>\n",
       "    </tr>\n",
       "    <tr>\n",
       "      <th>88</th>\n",
       "      <td>80.357701</td>\n",
       "      <td>63.295438</td>\n",
       "    </tr>\n",
       "    <tr>\n",
       "      <th>89</th>\n",
       "      <td>78.757236</td>\n",
       "      <td>53.332620</td>\n",
       "    </tr>\n",
       "    <tr>\n",
       "      <th>90</th>\n",
       "      <td>82.540240</td>\n",
       "      <td>56.541052</td>\n",
       "    </tr>\n",
       "    <tr>\n",
       "      <th>91</th>\n",
       "      <td>86.435897</td>\n",
       "      <td>59.792762</td>\n",
       "    </tr>\n",
       "    <tr>\n",
       "      <th>92</th>\n",
       "      <td>79.488684</td>\n",
       "      <td>53.651674</td>\n",
       "    </tr>\n",
       "    <tr>\n",
       "      <th>93</th>\n",
       "      <td>81.530420</td>\n",
       "      <td>56.025365</td>\n",
       "    </tr>\n",
       "    <tr>\n",
       "      <th>94</th>\n",
       "      <td>79.186789</td>\n",
       "      <td>53.234792</td>\n",
       "    </tr>\n",
       "    <tr>\n",
       "      <th>95</th>\n",
       "      <td>77.899058</td>\n",
       "      <td>51.822458</td>\n",
       "    </tr>\n",
       "    <tr>\n",
       "      <th>138</th>\n",
       "      <td>79.326078</td>\n",
       "      <td>52.900391</td>\n",
       "    </tr>\n",
       "    <tr>\n",
       "      <th>139</th>\n",
       "      <td>56.663974</td>\n",
       "      <td>87.940125</td>\n",
       "    </tr>\n",
       "    <tr>\n",
       "      <th>140</th>\n",
       "      <td>57.821789</td>\n",
       "      <td>90.693167</td>\n",
       "    </tr>\n",
       "    <tr>\n",
       "      <th>141</th>\n",
       "      <td>58.243172</td>\n",
       "      <td>92.104328</td>\n",
       "    </tr>\n",
       "  </tbody>\n",
       "</table>\n",
       "</div>"
      ],
      "text/plain": [
       "             x          y\n",
       "0    58.213608  91.881892\n",
       "1    58.196054  92.214989\n",
       "2    58.718231  90.310532\n",
       "3    57.278373  89.907607\n",
       "4    58.082020  92.008145\n",
       "5    57.489448  88.085286\n",
       "24   64.892788  65.814177\n",
       "25   62.490149  74.584290\n",
       "26   68.988084  63.232147\n",
       "27   62.105619  75.990871\n",
       "61   77.392982  63.371459\n",
       "62   64.400787  67.448718\n",
       "63   63.868960  70.213739\n",
       "64   56.594421  86.927006\n",
       "65   56.531337  87.499811\n",
       "66   59.652158  87.809462\n",
       "67   56.636509  85.637496\n",
       "68   58.672288  90.077160\n",
       "69   58.221613  90.411019\n",
       "70   57.914664  89.953803\n",
       "71   55.315509  80.251861\n",
       "72   54.575729  77.536288\n",
       "73   54.413094  78.229087\n",
       "74   55.074506  79.817546\n",
       "78   58.461839  90.265326\n",
       "79   57.997805  92.159909\n",
       "80   57.549474  90.748907\n",
       "81   59.529928  88.327274\n",
       "82   58.249391  92.129681\n",
       "83   58.024514  91.694421\n",
       "84   58.382124  90.553476\n",
       "85   62.566759  77.743935\n",
       "86   72.175824  63.128929\n",
       "87   79.472762  63.408686\n",
       "88   80.357701  63.295438\n",
       "89   78.757236  53.332620\n",
       "90   82.540240  56.541052\n",
       "91   86.435897  59.792762\n",
       "92   79.488684  53.651674\n",
       "93   81.530420  56.025365\n",
       "94   79.186789  53.234792\n",
       "95   77.899058  51.822458\n",
       "138  79.326078  52.900391\n",
       "139  56.663974  87.940125\n",
       "140  57.821789  90.693167\n",
       "141  58.243172  92.104328"
      ]
     },
     "execution_count": 22,
     "metadata": {},
     "output_type": "execute_result"
    }
   ],
   "source": [
    "# select just those rows where the value of x and y is over 50\n",
    "\n",
    "\n",
    "x350 = ds33['x'] > 50\n",
    "y350 = ds33['y'] >50\n",
    "\n",
    "x350y350 = ds33[x350 & y350]\n",
    "x350y350"
   ]
  },
  {
   "cell_type": "code",
   "execution_count": 23,
   "metadata": {},
   "outputs": [
    {
     "data": {
      "text/plain": [
       "0      55.3846\n",
       "1      51.5385\n",
       "2      46.1538\n",
       "3      42.8205\n",
       "4      40.7692\n",
       "        ...   \n",
       "137    39.4872\n",
       "138    91.2821\n",
       "139    50.0000\n",
       "140    47.9487\n",
       "141    44.1026\n",
       "Name: x, Length: 142, dtype: float64"
      ]
     },
     "execution_count": 23,
     "metadata": {},
     "output_type": "execute_result"
    }
   ],
   "source": [
    "# select the column 'x' and create a series\n",
    "#ds11['x']  eta use korleo hoi\n",
    "\n",
    "Sds11 = pd.Series(ds11['x'])\n",
    "Sds11"
   ]
  },
  {
   "cell_type": "code",
   "execution_count": 24,
   "metadata": {},
   "outputs": [
    {
     "data": {
      "text/plain": [
       "<AxesSubplot:>"
      ]
     },
     "execution_count": 24,
     "metadata": {},
     "output_type": "execute_result"
    },
    {
     "data": {
      "image/png": "[encoded data removed]",
      "text/plain": [
       "<Figure size 640x480 with 1 Axes>"
      ]
     },
     "metadata": {},
     "output_type": "display_data"
    }
   ],
   "source": [
    "# plot the 'x' series as a line graph\n",
    "\n",
    "Sds11.plot(kind = \"line\")"
   ]
  },
  {
   "cell_type": "code",
   "execution_count": 25,
   "metadata": {},
   "outputs": [
    {
     "data": {
      "text/plain": [
       "0      32.331110\n",
       "1      53.421463\n",
       "2      63.920202\n",
       "3      70.289506\n",
       "4      34.118830\n",
       "         ...    \n",
       "137    59.851838\n",
       "138    48.960460\n",
       "139    46.844855\n",
       "140    39.963022\n",
       "141    66.704944\n",
       "Name: x, Length: 142, dtype: float64"
      ]
     },
     "execution_count": 25,
     "metadata": {},
     "output_type": "execute_result"
    }
   ],
   "source": [
    "# select the column 'x' and create a series\n",
    "#ds22['x']  eta use korleo hoi\n",
    "\n",
    "Sd22 = pd.Series(ds22['x'])\n",
    "Sd22"
   ]
  },
  {
   "cell_type": "code",
   "execution_count": 26,
   "metadata": {},
   "outputs": [
    {
     "data": {
      "text/plain": [
       "<AxesSubplot:>"
      ]
     },
     "execution_count": 26,
     "metadata": {},
     "output_type": "execute_result"
    },
    {
     "data": {
      "image/png": "[encoded data removed]",
      "text/plain": [
       "<Figure size 640x480 with 1 Axes>"
      ]
     },
     "metadata": {},
     "output_type": "display_data"
    }
   ],
   "source": [
    "# plot the 'x' series as a line graph\n",
    "\n",
    "Sd22.plot(kind = \"line\")"
   ]
  },
  {
   "cell_type": "code",
   "execution_count": 27,
   "metadata": {},
   "outputs": [
    {
     "data": {
      "text/plain": [
       "0      58.213608\n",
       "1      58.196054\n",
       "2      58.718231\n",
       "3      57.278373\n",
       "4      58.082020\n",
       "         ...    \n",
       "137    43.722551\n",
       "138    79.326078\n",
       "139    56.663974\n",
       "140    57.821789\n",
       "141    58.243172\n",
       "Name: x, Length: 142, dtype: float64"
      ]
     },
     "execution_count": 27,
     "metadata": {},
     "output_type": "execute_result"
    }
   ],
   "source": [
    "# select the column 'x' and create a series\n",
    "#ds33['x']  eta use korleo hoi\n",
    "\n",
    "Sds33 = pd.Series(ds33['x'])\n",
    "Sds33"
   ]
  },
  {
   "cell_type": "code",
   "execution_count": 28,
   "metadata": {},
   "outputs": [
    {
     "data": {
      "text/plain": [
       "<AxesSubplot:>"
      ]
     },
     "execution_count": 28,
     "metadata": {},
     "output_type": "execute_result"
    },
    {
     "data": {
      "image/png": "[encoded data removed]",
      "text/plain": [
       "<Figure size 640x480 with 1 Axes>"
      ]
     },
     "metadata": {},
     "output_type": "display_data"
    }
   ],
   "source": [
    "# plot the 'x' series as a line graph\n",
    "\n",
    "Sds33.plot(kind = 'line')"
   ]
  },
  {
   "cell_type": "code",
   "execution_count": 29,
   "metadata": {},
   "outputs": [
    {
     "data": {
      "text/plain": [
       "<AxesSubplot:xlabel='x', ylabel='y'>"
      ]
     },
     "execution_count": 29,
     "metadata": {},
     "output_type": "execute_result"
    },
    {
     "data": {
      "image/png": "[encoded data removed]",
      "text/plain": [
       "<Figure size 640x480 with 1 Axes>"
      ]
     },
     "metadata": {},
     "output_type": "display_data"
    }
   ],
   "source": [
    "# - plot the dataframe as a scatterplot\n",
    "\n",
    "ds11.plot.scatter(x = 'x', y = \"y\", s = 10, c = \"black\")"
   ]
  },
  {
   "cell_type": "code",
   "execution_count": 30,
   "metadata": {},
   "outputs": [
    {
     "data": {
      "text/plain": [
       "<AxesSubplot:xlabel='x', ylabel='y'>"
      ]
     },
     "execution_count": 30,
     "metadata": {},
     "output_type": "execute_result"
    },
    {
     "data": {
      "image/png": "[encoded data removed]",
      "text/plain": [
       "<Figure size 640x480 with 1 Axes>"
      ]
     },
     "metadata": {},
     "output_type": "display_data"
    }
   ],
   "source": [
    "# - plot the dataframe as a scatterplot\n",
    "\n",
    "ds22.plot.scatter(x = 'x', y = 'y', s = 10, c = 'blue')"
   ]
  },
  {
   "cell_type": "code",
   "execution_count": 31,
   "metadata": {},
   "outputs": [
    {
     "data": {
      "text/plain": [
       "<AxesSubplot:xlabel='x', ylabel='y'>"
      ]
     },
     "execution_count": 31,
     "metadata": {},
     "output_type": "execute_result"
    },
    {
     "data": {
      "image/png": "[encoded data removed]",
      "text/plain": [
       "<Figure size 640x480 with 1 Axes>"
      ]
     },
     "metadata": {},
     "output_type": "display_data"
    }
   ],
   "source": [
    "# - plot the dataframe as a scatterplot\n",
    "\n",
    "ds33.plot.scatter(x = 'x',y = 'y', s = 10, c = \"Red\")"
   ]
  },
  {
   "cell_type": "code",
   "execution_count": null,
   "metadata": {},
   "outputs": [],
   "source": []
  },
  {
   "cell_type": "markdown",
   "metadata": {},
   "source": [
    "## Checkpoint\n",
    "\n",
    "Congratulations! you have finished the required task for Week 2. Since you got this empty (without your code and output) notebook by downloading from iLearn, place this notebook (Workshop Week 2.ipynb) into your local copy of your Github repository (e.g. practical-workshops-sonitsingh)and commit your work with a suitable commit message and push your changes back to your Github repository. Show your tutor your updated Github repository to get your checkpoint mark."
   ]
  },
  {
   "cell_type": "markdown",
   "metadata": {},
   "source": [
    "### Further Practice\n",
    "\n",
    "If you finish this task you can practice more with pandas data frames by following the examples in the text, section 2.6.  The CSV file that they use in that section is available in the `files` directory of this repository as `educ_figdp_1_Data.csv`.   "
   ]
  },
  {
   "cell_type": "code",
   "execution_count": 32,
   "metadata": {},
   "outputs": [],
   "source": [
    "edufile = 'files/educ_figdp_1_Data.csv'"
   ]
  },
  {
   "cell_type": "markdown",
   "metadata": {},
   "source": [
    "## Lecture Class  Practices"
   ]
  },
  {
   "cell_type": "markdown",
   "metadata": {},
   "source": [
    "## Numpy\n",
    "\n",
    "- NumPy is a Python module for numerical computing\n",
    "- It supports a multidimensional array type (array)\n",
    "- Operations on numerical data\n",
    "- Faster than using Python lists to hold data\n",
    "- Arrays can be one, two, three or many dimensional"
   ]
  },
  {
   "cell_type": "code",
   "execution_count": 33,
   "metadata": {},
   "outputs": [
    {
     "ename": "SyntaxError",
     "evalue": "invalid syntax (223553675.py, line 3)",
     "output_type": "error",
     "traceback": [
      "\u001b[1;36m  File \u001b[1;32m\"C:\\Users\\careo\\AppData\\Local\\Temp\\ipykernel_13044\\223553675.py\"\u001b[1;36m, line \u001b[1;32m3\u001b[0m\n\u001b[1;33m    pip install numpy\u001b[0m\n\u001b[1;37m        ^\u001b[0m\n\u001b[1;31mSyntaxError\u001b[0m\u001b[1;31m:\u001b[0m invalid syntax\n"
     ]
    }
   ],
   "source": [
    "# for installing numpy package\n",
    "\n",
    "pip install numpy"
   ]
  },
  {
   "cell_type": "code",
   "execution_count": 6,
   "metadata": {},
   "outputs": [],
   "source": [
    "# for importing numpy package\n",
    "import numpy as np"
   ]
  },
  {
   "cell_type": "code",
   "execution_count": 35,
   "metadata": {},
   "outputs": [
    {
     "data": {
      "text/plain": [
       "'1.21.5'"
      ]
     },
     "execution_count": 35,
     "metadata": {},
     "output_type": "execute_result"
    }
   ],
   "source": [
    "# numpy er version janar jonno\n",
    "np.__version__"
   ]
  },
  {
   "cell_type": "code",
   "execution_count": 42,
   "metadata": {},
   "outputs": [
    {
     "data": {
      "text/plain": [
       "['name', 'age', 'sex', 'height', 'color']"
      ]
     },
     "execution_count": 42,
     "metadata": {},
     "output_type": "execute_result"
    }
   ],
   "source": [
    "# ekhane list data type er output a comma ashbe \n",
    "\n",
    "lists = [1,2,3,4,5,6,7]\n",
    "lists\n",
    "\n",
    "lists1 = ['name','age','sex','height','color']\n",
    "lists1"
   ]
  },
  {
   "cell_type": "code",
   "execution_count": 41,
   "metadata": {},
   "outputs": [
    {
     "name": "stdout",
     "output_type": "stream",
     "text": [
      "[1 2 3 4 5 6 7]\n",
      "['name' 'age' 'sex' 'height' 'color']\n"
     ]
    }
   ],
   "source": [
    "# numpy normally array niye kaj kore theke\n",
    "# kintu numpy array te kono comma output akare ashbe na\n",
    "# numpy array er modhe j kono object k ndarray bola hoi\n",
    "\n",
    "arr = np.array([1,2,3,4,5,6,7])\n",
    "print(arr)\n",
    "\n",
    "arr1 = np.array(['name','age','sex','height','color'])\n",
    "print(arr1)"
   ]
  },
  {
   "cell_type": "code",
   "execution_count": 71,
   "metadata": {},
   "outputs": [
    {
     "name": "stdout",
     "output_type": "stream",
     "text": [
      "10000000000\n",
      "time 0.0\n"
     ]
    }
   ],
   "source": [
    "# numpy array python list er theke faster kaj kore\n",
    "# niche nparra  and python list er difference dekhano holo\n",
    "# eta numpy array\n",
    "\n",
    "import time\n",
    "import numpy\n",
    "\n",
    "bigarray = np.array([10000000000])\n",
    "start = time.time()\n",
    "\n",
    "print(bigarray.sum())\n",
    "print(\"time\",time.time()-start)"
   ]
  },
  {
   "cell_type": "code",
   "execution_count": 72,
   "metadata": {},
   "outputs": [
    {
     "name": "stdout",
     "output_type": "stream",
     "text": [
      "10000000000\n",
      "time : 0.0\n"
     ]
    }
   ],
   "source": [
    "# eta normal python list\n",
    "\n",
    "biglist = list(bigarray)\n",
    "\n",
    "start = time.time()\n",
    "\n",
    "print(sum(biglist))\n",
    "print(\"time :\", time.time()-start)"
   ]
  },
  {
   "cell_type": "markdown",
   "metadata": {},
   "source": [
    "### Dimensions of Numpy array"
   ]
  },
  {
   "cell_type": "code",
   "execution_count": 76,
   "metadata": {},
   "outputs": [
    {
     "name": "stdout",
     "output_type": "stream",
     "text": [
      "10000\n",
      "0\n"
     ]
    }
   ],
   "source": [
    "# 0 D\n",
    "# ekhane eta zero dimensional array\n",
    "# array er por first bracket a shudhu ekta element thakle seta zero dimensional array\n",
    "\n",
    "zero = np.array(10000)\n",
    "print(zero)\n",
    "print(zero.ndim)"
   ]
  },
  {
   "cell_type": "code",
   "execution_count": 96,
   "metadata": {},
   "outputs": [
    {
     "name": "stdout",
     "output_type": "stream",
     "text": [
      "[1000]\n",
      "Dimension:  1\n",
      "Size 1\n",
      "Shape:  (1,)\n"
     ]
    }
   ],
   "source": [
    "# 1 D \n",
    "# but array er first bracket er por third bracket use korlei ta 1 Dimensional array hoye jabe\n",
    "one = np.array([1000])\n",
    "print(one)\n",
    "print(\"Dimension: \",one.ndim)\n",
    "print(\"Size\",one.size)\n",
    "print(\"Shape: \",one.shape)"
   ]
  },
  {
   "cell_type": "code",
   "execution_count": 11,
   "metadata": {},
   "outputs": [
    {
     "name": "stdout",
     "output_type": "stream",
     "text": [
      "[[1 3 5]\n",
      " [2 4 6]]\n",
      "[[1 3 5]\n",
      " [2 4 6]]\n",
      "Dimension:  2\n",
      "Size 10\n",
      "Shape:  (2, 5)\n"
     ]
    }
   ],
   "source": [
    "# 2 D\n",
    "# dimension joto beshi hobe bracket er  layer toto beshi hobe\n",
    "\n",
    "two = np.array([[1,3,5],[2,4,6]])\n",
    "print(two)\n",
    "\n",
    "twos = np.array([[1,2,3,4,5,],[3,4,5,6,7]])\n",
    "print(two)\n",
    "print(\"Dimension: \",twos.ndim)\n",
    "print(\"Size\",twos.size)\n",
    "print(\"Shape: \",twos.shape)"
   ]
  },
  {
   "cell_type": "code",
   "execution_count": 86,
   "metadata": {},
   "outputs": [
    {
     "name": "stdout",
     "output_type": "stream",
     "text": [
      "[[[1 2 3]\n",
      "  [4 5 6]]\n",
      "\n",
      " [[1 2 3]\n",
      "  [7 8 9]]]\n",
      "3\n"
     ]
    }
   ],
   "source": [
    "# 3 D\n",
    "\n",
    "three = np.array([[[1,2,3],[4,5,6]],[[1,2,3],[7,8,9]]])\n",
    "print(three)\n",
    "print(three.ndim)"
   ]
  },
  {
   "cell_type": "code",
   "execution_count": 93,
   "metadata": {},
   "outputs": [
    {
     "name": "stdout",
     "output_type": "stream",
     "text": [
      "[[['man' 'woman' 'zee']\n",
      "  ['ox' 'cow' 'bachur']]\n",
      "\n",
      " [['man' 'woman' 'zee']\n",
      "  ['cock' 'hen' 'broilar']]]\n",
      "3\n",
      "12\n",
      "(2, 2, 3)\n"
     ]
    }
   ],
   "source": [
    "thress = np.array([[['man','woman','zee'],['ox','cow','bachur']],[['man','woman','zee'],['cock','hen','broilar']]])\n",
    "print(thress)\n",
    "print(\"Dimension: \",thress.ndim)\n",
    "print(\"Size\",thress.size)\n",
    "print(\"Shape: \",thress.shape)"
   ]
  },
  {
   "cell_type": "code",
   "execution_count": 104,
   "metadata": {},
   "outputs": [
    {
     "name": "stdout",
     "output_type": "stream",
     "text": [
      "[[1 0 0 0 0]\n",
      " [0 2 0 0 0]\n",
      " [0 0 3 0 0]\n",
      " [0 0 0 4 0]\n",
      " [0 0 0 0 5]]\n",
      "25\n",
      "(5, 5)\n",
      "2\n"
     ]
    }
   ],
   "source": [
    "# DIAGONAL array\n",
    "\n",
    "diagonal  = np.diag([1,2,3,4,5])\n",
    "print(diagonal)\n",
    "print(diagonal.size)\n",
    "print(diagonal.shape)\n",
    "print(diagonal.ndim)"
   ]
  },
  {
   "cell_type": "code",
   "execution_count": 7,
   "metadata": {},
   "outputs": [
    {
     "name": "stdout",
     "output_type": "stream",
     "text": [
      "[[[ 0  1  2  3]\n",
      "  [ 4  5  6  7]\n",
      "  [ 8  9 10 11]]]\n",
      "[[[ 0  1]\n",
      "  [ 2  3]]\n",
      "\n",
      " [[ 4  5]\n",
      "  [ 6  7]]\n",
      "\n",
      " [[ 8  9]\n",
      "  [10 11]]\n",
      "\n",
      " [[12 13]\n",
      "  [14 15]]\n",
      "\n",
      " [[16 17]\n",
      "  [18 19]]\n",
      "\n",
      " [[20 21]\n",
      "  [22 23]]]\n"
     ]
    }
   ],
   "source": [
    "# More Dimensional array\n",
    "\n",
    "# ekhane kono item input na diye direct array output pawa jai\n",
    "# arrange er moddhe j value dibo oita reshape er value gular multiplication er shoman hote hobe\n",
    "\n",
    "multi1 = np.arange(12).reshape(1,3,4)\n",
    "print(multi1)\n",
    "\n",
    "multi2 = np.arange(24).reshape(6,2,2)\n",
    "print(multi2)"
   ]
  },
  {
   "cell_type": "code",
   "execution_count": 127,
   "metadata": {},
   "outputs": [
    {
     "name": "stdout",
     "output_type": "stream",
     "text": [
      "[[1 3 5]\n",
      " [2 4 6]]\n"
     ]
    }
   ],
   "source": [
    "# use [] notation to get at parts of the matrix\n",
    "print(two)"
   ]
  },
  {
   "cell_type": "code",
   "execution_count": 131,
   "metadata": {},
   "outputs": [
    {
     "name": "stdout",
     "output_type": "stream",
     "text": [
      "[1 3 5]\n",
      "[2 4 6]\n"
     ]
    }
   ],
   "source": [
    "print(two[0]) # eta dara 0 no array bujhasse\n",
    "print(two[1])  # eta diye 1 no array bujhasse"
   ]
  },
  {
   "cell_type": "code",
   "execution_count": 134,
   "metadata": {},
   "outputs": [
    {
     "name": "stdout",
     "output_type": "stream",
     "text": [
      "5\n",
      "2\n"
     ]
    }
   ],
   "source": [
    "print(two[0,2]) # 0 array er 2 no element k bujhasse\n",
    "print(two[1,0]) # 1 array er 0 element k bujhasse"
   ]
  },
  {
   "cell_type": "code",
   "execution_count": 141,
   "metadata": {},
   "outputs": [
    {
     "name": "stdout",
     "output_type": "stream",
     "text": [
      "[[2 4 6]]\n",
      "[2 4]\n"
     ]
    }
   ],
   "source": [
    "print(two[1:]) # 1 no array er baki element gula bujhasse\n",
    "print(two[1,:2]) # 1 no array er 0 and 1 no element dekhabe"
   ]
  },
  {
   "cell_type": "markdown",
   "metadata": {},
   "source": [
    "## Pandas\n",
    "\n",
    "* [Pandas](https://pandas.pydata.org/) is another Python package that builds on numpy to provide some useful capabilities.\n",
    "* The main feature of pandas are one and two-dimensional data structures [Series](http://pandas.pydata.org/pandas-docs/stable/dsintro.html#series) and [DataFrame](http://pandas.pydata.org/pandas-docs/stable/dsintro.html#dataframe)\n",
    "* A DataFrame is like a numpy 2-D array but with extra features like column and row names - more like a spreadsheet\n"
   ]
  },
  {
   "cell_type": "code",
   "execution_count": 142,
   "metadata": {},
   "outputs": [
    {
     "name": "stdout",
     "output_type": "stream",
     "text": [
      "Requirement already satisfied: pandas in c:\\users\\careo\\anaconda3\\lib\\site-packages (1.4.4)\n",
      "Requirement already satisfied: numpy>=1.18.5 in c:\\users\\careo\\anaconda3\\lib\\site-packages (from pandas) (1.21.5)\n",
      "Requirement already satisfied: pytz>=2020.1 in c:\\users\\careo\\anaconda3\\lib\\site-packages (from pandas) (2022.1)\n",
      "Requirement already satisfied: python-dateutil>=2.8.1 in c:\\users\\careo\\anaconda3\\lib\\site-packages (from pandas) (2.8.2)\n",
      "Requirement already satisfied: six>=1.5 in c:\\users\\careo\\anaconda3\\lib\\site-packages (from python-dateutil>=2.8.1->pandas) (1.16.0)\n",
      "Note: you may need to restart the kernel to use updated packages.\n"
     ]
    }
   ],
   "source": [
    "# pandas install korar jonno\n",
    "pip install pandas"
   ]
  },
  {
   "cell_type": "code",
   "execution_count": 1,
   "metadata": {},
   "outputs": [],
   "source": [
    "# pandas package import korar jonno\n",
    "import pandas as pd"
   ]
  },
  {
   "cell_type": "code",
   "execution_count": 144,
   "metadata": {},
   "outputs": [
    {
     "data": {
      "text/plain": [
       "'1.4.4'"
      ]
     },
     "execution_count": 144,
     "metadata": {},
     "output_type": "execute_result"
    }
   ],
   "source": [
    "# pandas er version janar jonno\n",
    "\n",
    "pd.__version__"
   ]
  },
  {
   "cell_type": "code",
   "execution_count": 13,
   "metadata": {},
   "outputs": [
    {
     "data": {
      "text/html": [
       "<div>\n",
       "<style scoped>\n",
       "    .dataframe tbody tr th:only-of-type {\n",
       "        vertical-align: middle;\n",
       "    }\n",
       "\n",
       "    .dataframe tbody tr th {\n",
       "        vertical-align: top;\n",
       "    }\n",
       "\n",
       "    .dataframe thead th {\n",
       "        text-align: right;\n",
       "    }\n",
       "</style>\n",
       "<table border=\"1\" class=\"dataframe\">\n",
       "  <thead>\n",
       "    <tr style=\"text-align: right;\">\n",
       "      <th></th>\n",
       "      <th>0</th>\n",
       "      <th>1</th>\n",
       "      <th>2</th>\n",
       "      <th>3</th>\n",
       "      <th>4</th>\n",
       "    </tr>\n",
       "  </thead>\n",
       "  <tbody>\n",
       "    <tr>\n",
       "      <th>0</th>\n",
       "      <td>1</td>\n",
       "      <td>2</td>\n",
       "      <td>3</td>\n",
       "      <td>4</td>\n",
       "      <td>5</td>\n",
       "    </tr>\n",
       "    <tr>\n",
       "      <th>1</th>\n",
       "      <td>3</td>\n",
       "      <td>4</td>\n",
       "      <td>5</td>\n",
       "      <td>6</td>\n",
       "      <td>7</td>\n",
       "    </tr>\n",
       "  </tbody>\n",
       "</table>\n",
       "</div>"
      ],
      "text/plain": [
       "   0  1  2  3  4\n",
       "0  1  2  3  4  5\n",
       "1  3  4  5  6  7"
      ]
     },
     "execution_count": 13,
     "metadata": {},
     "output_type": "execute_result"
    }
   ],
   "source": [
    "# 2-Dimensional er beshi Dimension wala data set DataFrame Data structure a kaj kore na\n",
    "pd.DataFrame(twos)"
   ]
  },
  {
   "cell_type": "code",
   "execution_count": 18,
   "metadata": {},
   "outputs": [
    {
     "data": {
      "text/html": [
       "<div>\n",
       "<style scoped>\n",
       "    .dataframe tbody tr th:only-of-type {\n",
       "        vertical-align: middle;\n",
       "    }\n",
       "\n",
       "    .dataframe tbody tr th {\n",
       "        vertical-align: top;\n",
       "    }\n",
       "\n",
       "    .dataframe thead th {\n",
       "        text-align: right;\n",
       "    }\n",
       "</style>\n",
       "<table border=\"1\" class=\"dataframe\">\n",
       "  <thead>\n",
       "    <tr style=\"text-align: right;\">\n",
       "      <th></th>\n",
       "      <th>x</th>\n",
       "      <th>y</th>\n",
       "    </tr>\n",
       "  </thead>\n",
       "  <tbody>\n",
       "    <tr>\n",
       "      <th>0</th>\n",
       "      <td>58.213608</td>\n",
       "      <td>91.881892</td>\n",
       "    </tr>\n",
       "    <tr>\n",
       "      <th>1</th>\n",
       "      <td>58.196054</td>\n",
       "      <td>92.214989</td>\n",
       "    </tr>\n",
       "    <tr>\n",
       "      <th>2</th>\n",
       "      <td>58.718231</td>\n",
       "      <td>90.310532</td>\n",
       "    </tr>\n",
       "    <tr>\n",
       "      <th>3</th>\n",
       "      <td>57.278373</td>\n",
       "      <td>89.907607</td>\n",
       "    </tr>\n",
       "    <tr>\n",
       "      <th>4</th>\n",
       "      <td>58.082020</td>\n",
       "      <td>92.008145</td>\n",
       "    </tr>\n",
       "    <tr>\n",
       "      <th>...</th>\n",
       "      <td>...</td>\n",
       "      <td>...</td>\n",
       "    </tr>\n",
       "    <tr>\n",
       "      <th>137</th>\n",
       "      <td>43.722551</td>\n",
       "      <td>19.077328</td>\n",
       "    </tr>\n",
       "    <tr>\n",
       "      <th>138</th>\n",
       "      <td>79.326078</td>\n",
       "      <td>52.900391</td>\n",
       "    </tr>\n",
       "    <tr>\n",
       "      <th>139</th>\n",
       "      <td>56.663974</td>\n",
       "      <td>87.940125</td>\n",
       "    </tr>\n",
       "    <tr>\n",
       "      <th>140</th>\n",
       "      <td>57.821789</td>\n",
       "      <td>90.693167</td>\n",
       "    </tr>\n",
       "    <tr>\n",
       "      <th>141</th>\n",
       "      <td>58.243172</td>\n",
       "      <td>92.104328</td>\n",
       "    </tr>\n",
       "  </tbody>\n",
       "</table>\n",
       "<p>142 rows × 2 columns</p>\n",
       "</div>"
      ],
      "text/plain": [
       "             x          y\n",
       "0    58.213608  91.881892\n",
       "1    58.196054  92.214989\n",
       "2    58.718231  90.310532\n",
       "3    57.278373  89.907607\n",
       "4    58.082020  92.008145\n",
       "..         ...        ...\n",
       "137  43.722551  19.077328\n",
       "138  79.326078  52.900391\n",
       "139  56.663974  87.940125\n",
       "140  57.821789  90.693167\n",
       "141  58.243172  92.104328\n",
       "\n",
       "[142 rows x 2 columns]"
      ]
     },
     "execution_count": 18,
     "metadata": {},
     "output_type": "execute_result"
    }
   ],
   "source": [
    "# csv file import korar jonno\n",
    "ds3 = pd.read_csv('ds3.csv')\n",
    "ds3"
   ]
  },
  {
   "cell_type": "code",
   "execution_count": 26,
   "metadata": {},
   "outputs": [
    {
     "name": "stdout",
     "output_type": "stream",
     "text": [
      "           x          y\n",
      "0  58.213608  91.881892\n",
      "1  58.196054  92.214989\n",
      "2  58.718231  90.310532\n",
      "3  57.278373  89.907607\n",
      "4  58.082020  92.008145\n",
      "             x          y\n",
      "137  43.722551  19.077328\n",
      "138  79.326078  52.900391\n",
      "139  56.663974  87.940125\n",
      "140  57.821789  90.693167\n",
      "141  58.243172  92.104328\n",
      "(142, 2)\n"
     ]
    }
   ],
   "source": [
    "# for head data\n",
    "\n",
    "print(ds3.head())\n",
    "\n",
    "# for tail data \n",
    "\n",
    "print(ds3.tail())\n",
    "\n",
    "# for data shape\n",
    "\n",
    "print(ds3.shape)"
   ]
  },
  {
   "cell_type": "code",
   "execution_count": 27,
   "metadata": {},
   "outputs": [
    {
     "data": {
      "text/html": [
       "<div>\n",
       "<style scoped>\n",
       "    .dataframe tbody tr th:only-of-type {\n",
       "        vertical-align: middle;\n",
       "    }\n",
       "\n",
       "    .dataframe tbody tr th {\n",
       "        vertical-align: top;\n",
       "    }\n",
       "\n",
       "    .dataframe thead th {\n",
       "        text-align: right;\n",
       "    }\n",
       "</style>\n",
       "<table border=\"1\" class=\"dataframe\">\n",
       "  <thead>\n",
       "    <tr style=\"text-align: right;\">\n",
       "      <th></th>\n",
       "      <th>y</th>\n",
       "    </tr>\n",
       "    <tr>\n",
       "      <th>x</th>\n",
       "      <th></th>\n",
       "    </tr>\n",
       "  </thead>\n",
       "  <tbody>\n",
       "    <tr>\n",
       "      <th>58.213608</th>\n",
       "      <td>91.881892</td>\n",
       "    </tr>\n",
       "    <tr>\n",
       "      <th>58.196054</th>\n",
       "      <td>92.214989</td>\n",
       "    </tr>\n",
       "    <tr>\n",
       "      <th>58.718231</th>\n",
       "      <td>90.310532</td>\n",
       "    </tr>\n",
       "    <tr>\n",
       "      <th>57.278373</th>\n",
       "      <td>89.907607</td>\n",
       "    </tr>\n",
       "    <tr>\n",
       "      <th>58.082020</th>\n",
       "      <td>92.008145</td>\n",
       "    </tr>\n",
       "    <tr>\n",
       "      <th>...</th>\n",
       "      <td>...</td>\n",
       "    </tr>\n",
       "    <tr>\n",
       "      <th>43.722551</th>\n",
       "      <td>19.077328</td>\n",
       "    </tr>\n",
       "    <tr>\n",
       "      <th>79.326078</th>\n",
       "      <td>52.900391</td>\n",
       "    </tr>\n",
       "    <tr>\n",
       "      <th>56.663974</th>\n",
       "      <td>87.940125</td>\n",
       "    </tr>\n",
       "    <tr>\n",
       "      <th>57.821789</th>\n",
       "      <td>90.693167</td>\n",
       "    </tr>\n",
       "    <tr>\n",
       "      <th>58.243172</th>\n",
       "      <td>92.104328</td>\n",
       "    </tr>\n",
       "  </tbody>\n",
       "</table>\n",
       "<p>142 rows × 1 columns</p>\n",
       "</div>"
      ],
      "text/plain": [
       "                   y\n",
       "x                   \n",
       "58.213608  91.881892\n",
       "58.196054  92.214989\n",
       "58.718231  90.310532\n",
       "57.278373  89.907607\n",
       "58.082020  92.008145\n",
       "...              ...\n",
       "43.722551  19.077328\n",
       "79.326078  52.900391\n",
       "56.663974  87.940125\n",
       "57.821789  90.693167\n",
       "58.243172  92.104328\n",
       "\n",
       "[142 rows x 1 columns]"
      ]
     },
     "execution_count": 27,
     "metadata": {},
     "output_type": "execute_result"
    }
   ],
   "source": [
    "# kono specific collumn k index column korte chaile\n",
    "# ekhane x k index column hishebe dekhano hoise kora hoise\n",
    "\n",
    "pd.read_csv(\"ds3.csv\" , index_col = \"x\")"
   ]
  },
  {
   "cell_type": "code",
   "execution_count": 46,
   "metadata": {},
   "outputs": [
    {
     "name": "stdout",
     "output_type": "stream",
     "text": [
      "0      58.213608\n",
      "1      58.196054\n",
      "2      58.718231\n",
      "3      57.278373\n",
      "4      58.082020\n",
      "         ...    \n",
      "137    43.722551\n",
      "138    79.326078\n",
      "139    56.663974\n",
      "140    57.821789\n",
      "141    58.243172\n",
      "Name: x, Length: 142, dtype: float64\n",
      "0      91.881892\n",
      "1      92.214989\n",
      "2      90.310532\n",
      "3      89.907607\n",
      "4      92.008145\n",
      "         ...    \n",
      "137    19.077328\n",
      "138    52.900391\n",
      "139    87.940125\n",
      "140    90.693167\n",
      "141    92.104328\n",
      "Name: y, Length: 142, dtype: float64\n",
      "4    58.082020\n",
      "5    57.489448\n",
      "6    28.088741\n",
      "7    28.085468\n",
      "Name: x, dtype: float64\n",
      "4    92.008145\n",
      "5    88.085286\n",
      "6    63.510794\n",
      "7    63.590197\n",
      "8    63.123283\n",
      "Name: y, dtype: float64\n"
     ]
    }
   ],
   "source": [
    "# pandas a column indexing er jonno column name use kora\n",
    "print(ds3['x'])\n",
    "print(ds3['y'])\n",
    "\n",
    "# specific kichu column indexing kora jai\n",
    "\n",
    "print(ds3['x'][4:8])\n",
    "print(ds3['y'][4:9])"
   ]
  },
  {
   "cell_type": "code",
   "execution_count": 36,
   "metadata": {},
   "outputs": [
    {
     "name": "stdout",
     "output_type": "stream",
     "text": [
      "x    58.082020\n",
      "y    92.008145\n",
      "Name: 4, dtype: float64\n",
      "x    58.213608\n",
      "y    91.881892\n",
      "Name: 0, dtype: float64\n",
      "x    58.718231\n",
      "y    90.310532\n",
      "Name: 2, dtype: float64\n"
     ]
    }
   ],
   "source": [
    "# panda te rows indexing er jonno\n",
    "\n",
    "print(ds3.loc[4])  # ekhane 4 no row dekhabe\n",
    "print(ds3.loc[0])  # ekhane 4 no row dekhabe\n",
    "print(ds3.loc[2])  # ekhane 4 no row dekhabe"
   ]
  },
  {
   "cell_type": "code",
   "execution_count": 44,
   "metadata": {},
   "outputs": [
    {
     "name": "stdout",
     "output_type": "stream",
     "text": [
      "           x          y\n",
      "0  58.213608  91.881892\n",
      "1  58.196054  92.214989\n",
      "2  58.718231  90.310532\n",
      "3  57.278373  89.907607\n",
      "            x          y\n",
      "23  43.233085  63.165219\n",
      "24  64.892788  65.814177\n",
      "25  62.490149  74.584290\n",
      "26  68.988084  63.232147\n",
      "27  62.105619  75.990871\n",
      "28  32.461847  62.881903\n",
      "29  41.327201  49.070251\n",
      "30  44.007150  46.449674\n",
      "31  44.074061  34.553204\n",
      "32  44.001315  33.904207\n",
      "33  45.006300  38.299020\n",
      "34  44.443841  36.019083\n",
      "35  42.178713  26.492119\n",
      "36  44.044566  35.662238\n",
      "37  41.640454  27.093095\n",
      "38  41.938330  24.991523\n",
      "39  44.053928  33.556392\n",
      "40  39.206719  51.533716\n",
      "41  28.704449  61.777525\n",
      "42  31.708663  58.837754\n",
      "43  42.811711  30.020448\n",
      "             x          y\n",
      "122  41.740244  17.829324\n",
      "123  39.311872  15.640717\n",
      "124  41.679848  17.745919\n",
      "125  39.087464  15.122304\n",
      "126  41.481503  18.047437\n",
      "127  77.606087  15.162873\n",
      "128  75.982662  16.306922\n",
      "129  76.945757  15.858478\n",
      "130  77.543720  15.253949\n",
      "131  77.584740  15.830039\n",
      "132  76.822304  15.595165\n",
      "133  77.348572  15.774529\n",
      "134  77.573153  14.780646\n",
      "135  77.972611  14.955699\n",
      "136  41.528920  24.916425\n",
      "137  43.722551  19.077328\n",
      "138  79.326078  52.900391\n",
      "139  56.663974  87.940125\n",
      "140  57.821789  90.693167\n",
      "141  58.243172  92.104328\n"
     ]
    }
   ],
   "source": [
    "# Index rows by integer index using .iloc property\n",
    "# etar maddhome prothom 4 ta row er output dekhabe\n",
    "print(ds3.iloc[0:4])\n",
    "\n",
    "# shudhu loc use korle exact inputed rows number er soman output ashbe\n",
    "print(ds3.loc[23:43])\n",
    "\n",
    "print(ds3.iloc[122:])"
   ]
  },
  {
   "cell_type": "code",
   "execution_count": 50,
   "metadata": {},
   "outputs": [],
   "source": [
    "# plotting\n",
    "# importing packages\n",
    "\n",
    "import pandas as pd\n",
    "import matplotlib.pyplot as plt\n",
    "%matplotlib inline"
   ]
  },
  {
   "cell_type": "code",
   "execution_count": 56,
   "metadata": {},
   "outputs": [
    {
     "data": {
      "image/png": "[encoded data removed]",
      "text/plain": [
       "<Figure size 640x480 with 1 Axes>"
      ]
     },
     "metadata": {},
     "output_type": "display_data"
    }
   ],
   "source": [
    "# ds3 file a plotting er maddhome dekhano hocche\n",
    "\n",
    "ds3.plot()\n",
    "plt.show()"
   ]
  },
  {
   "cell_type": "code",
   "execution_count": 59,
   "metadata": {},
   "outputs": [
    {
     "data": {
      "text/plain": [
       "<AxesSubplot:xlabel='x', ylabel='y'>"
      ]
     },
     "execution_count": 59,
     "metadata": {},
     "output_type": "execute_result"
    },
    {
     "data": {
      "image/png": "[encoded data removed]",
      "text/plain": [
       "<Figure size 640x480 with 1 Axes>"
      ]
     },
     "metadata": {},
     "output_type": "display_data"
    }
   ],
   "source": [
    "# scatter plotting er maddhome ds3 file ta show korbo\n",
    "\n",
    "ds3.plot.scatter(x = 'x',y = 'y')"
   ]
  },
  {
   "cell_type": "code",
   "execution_count": 60,
   "metadata": {},
   "outputs": [
    {
     "data": {
      "text/plain": [
       "<AxesSubplot:>"
      ]
     },
     "execution_count": 60,
     "metadata": {},
     "output_type": "execute_result"
    },
    {
     "data": {
      "image/png": "[encoded data removed]",
      "text/plain": [
       "<Figure size 640x480 with 1 Axes>"
      ]
     },
     "metadata": {},
     "output_type": "display_data"
    }
   ],
   "source": [
    "# bar diagram er maddhome dekhbo\n",
    "\n",
    "ds3.plot.bar()"
   ]
  },
  {
   "cell_type": "code",
   "execution_count": 62,
   "metadata": {},
   "outputs": [
    {
     "data": {
      "text/plain": [
       "<AxesSubplot:ylabel='Frequency'>"
      ]
     },
     "execution_count": 62,
     "metadata": {},
     "output_type": "execute_result"
    },
    {
     "data": {
      "image/png": "[encoded data removed]",
      "text/plain": [
       "<Figure size 640x480 with 1 Axes>"
      ]
     },
     "metadata": {},
     "output_type": "display_data"
    }
   ],
   "source": [
    "# histogram er maddhome \n",
    "ds3.plot.hist()"
   ]
  },
  {
   "cell_type": "markdown",
   "metadata": {},
   "source": [
    "## END"
   ]
  },
  {
   "cell_type": "code",
   "execution_count": null,
   "metadata": {},
   "outputs": [],
   "source": []
  }
 ],
 "metadata": {
  "kernelspec": {
   "display_name": "Python 3 (ipykernel)",
   "language": "python",
   "name": "python3"
  },
  "language_info": {
   "codemirror_mode": {
    "name": "ipython",
    "version": 3
   },
   "file_extension": ".py",
   "mimetype": "text/x-python",
   "name": "python",
   "nbconvert_exporter": "python",
   "pygments_lexer": "ipython3",
   "version": "3.9.13"
  }
 },
 "nbformat": 4,
 "nbformat_minor": 2
}
