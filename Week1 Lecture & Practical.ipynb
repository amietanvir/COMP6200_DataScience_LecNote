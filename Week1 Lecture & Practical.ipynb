{
 "cells": [
  {
   "cell_type": "markdown",
   "id": "fd8533e9",
   "metadata": {},
   "source": [
    "## Lecture Class Practices"
   ]
  },
  {
   "cell_type": "markdown",
   "id": "c23e98e9",
   "metadata": {},
   "source": [
    "#### Very Basic Python"
   ]
  },
  {
   "cell_type": "code",
   "execution_count": 1,
   "id": "9d701884",
   "metadata": {},
   "outputs": [
    {
     "name": "stdout",
     "output_type": "stream",
     "text": [
      "hello! world\n"
     ]
    }
   ],
   "source": [
    "print(\"hello! world\")"
   ]
  },
  {
   "cell_type": "code",
   "execution_count": 2,
   "id": "97435e85",
   "metadata": {},
   "outputs": [
    {
     "name": "stdout",
     "output_type": "stream",
     "text": [
      "8\n"
     ]
    }
   ],
   "source": [
    "print(3+5)"
   ]
  },
  {
   "cell_type": "code",
   "execution_count": 3,
   "id": "dd316bee",
   "metadata": {},
   "outputs": [],
   "source": [
    "title =  \"COMP2200/COMP6200/Data Science\""
   ]
  },
  {
   "cell_type": "code",
   "execution_count": 5,
   "id": "7979d3b4",
   "metadata": {},
   "outputs": [
    {
     "data": {
      "text/plain": [
       "30"
      ]
     },
     "execution_count": 5,
     "metadata": {},
     "output_type": "execute_result"
    }
   ],
   "source": [
    "len(title)"
   ]
  },
  {
   "cell_type": "code",
   "execution_count": 6,
   "id": "abc79b32",
   "metadata": {},
   "outputs": [
    {
     "data": {
      "text/plain": [
       "['COMP2200/COMP6200/Data', 'Science']"
      ]
     },
     "execution_count": 6,
     "metadata": {},
     "output_type": "execute_result"
    }
   ],
   "source": [
    "title.split()"
   ]
  },
  {
   "cell_type": "code",
   "execution_count": 8,
   "id": "8f6d763d",
   "metadata": {},
   "outputs": [
    {
     "data": {
      "text/plain": [
       "['COMP2200', 'COMP6200', 'Data Science']"
      ]
     },
     "execution_count": 8,
     "metadata": {},
     "output_type": "execute_result"
    }
   ],
   "source": [
    "title.split(\"/\") # jekhane / ase okhane okhane split hoye jabe"
   ]
  },
  {
   "cell_type": "code",
   "execution_count": 10,
   "id": "8db181b6",
   "metadata": {},
   "outputs": [
    {
     "data": {
      "text/plain": [
       "'COMP2200/COMP6200/DATA SCIENCE'"
      ]
     },
     "execution_count": 10,
     "metadata": {},
     "output_type": "execute_result"
    }
   ],
   "source": [
    "title.upper()  # shobgula capital letter "
   ]
  },
  {
   "cell_type": "code",
   "execution_count": 11,
   "id": "179a58d6",
   "metadata": {},
   "outputs": [
    {
     "data": {
      "text/plain": [
       "'comp2200/comp6200/data science'"
      ]
     },
     "execution_count": 11,
     "metadata": {},
     "output_type": "execute_result"
    }
   ],
   "source": [
    "title.lower() # sobgula small letter"
   ]
  },
  {
   "cell_type": "code",
   "execution_count": 12,
   "id": "46c2e701",
   "metadata": {},
   "outputs": [
    {
     "name": "stdout",
     "output_type": "stream",
     "text": [
      "C\n",
      "O\n",
      "M\n",
      "P\n",
      "2\n",
      "2\n",
      "0\n",
      "0\n",
      "/\n",
      "C\n",
      "O\n",
      "M\n",
      "P\n",
      "6\n",
      "2\n",
      "0\n",
      "0\n",
      "/\n",
      "D\n",
      "a\n",
      "t\n",
      "a\n",
      " \n",
      "S\n",
      "c\n",
      "i\n",
      "e\n",
      "n\n",
      "c\n",
      "e\n"
     ]
    }
   ],
   "source": [
    "for word in title:    # alada alada letter for loop er maddhome output ashbe\n",
    "    print(word)"
   ]
  },
  {
   "cell_type": "code",
   "execution_count": 13,
   "id": "a8b354c8",
   "metadata": {},
   "outputs": [
    {
     "name": "stdout",
     "output_type": "stream",
     "text": [
      "COMP2200/COMP6200/Data\n",
      "Science\n"
     ]
    }
   ],
   "source": [
    "for word in title.split():  # split kore dile shudhu word gula alada alada vabe ashbe\n",
    "    print(word)"
   ]
  },
  {
   "cell_type": "code",
   "execution_count": 17,
   "id": "b7bb0f27",
   "metadata": {},
   "outputs": [],
   "source": [
    "def add(n1,n2):\n",
    "    sum = n1+n2\n",
    "    return sum"
   ]
  },
  {
   "cell_type": "code",
   "execution_count": 18,
   "id": "d6be89ed",
   "metadata": {},
   "outputs": [
    {
     "name": "stdout",
     "output_type": "stream",
     "text": [
      "7\n"
     ]
    }
   ],
   "source": [
    "print(add(3,4))"
   ]
  },
  {
   "cell_type": "markdown",
   "id": "8fe1562e",
   "metadata": {},
   "source": [
    "### Practice on Plotting Figures\n",
    "\n",
    "* Pandas\n",
    "* matplotlib\n",
    "* Plot functions\n",
    "    * bar\n",
    "    * scatter\n",
    "    * hist"
   ]
  },
  {
   "cell_type": "code",
   "execution_count": 20,
   "id": "d49d31f8",
   "metadata": {},
   "outputs": [],
   "source": [
    "import pandas as pd\n",
    "import matplotlib.pyplot as plt\n",
    "%matplotlib inline            "
   ]
  },
  {
   "cell_type": "code",
   "execution_count": 25,
   "id": "60b1fb58",
   "metadata": {},
   "outputs": [],
   "source": [
    "# importing dataset or csv file from the folder\n",
    "\n",
    "dataset1 =  pd.read_csv(\"files/ds1.csv\")"
   ]
  },
  {
   "cell_type": "code",
   "execution_count": 27,
   "id": "5d0f2168",
   "metadata": {},
   "outputs": [
    {
     "data": {
      "text/html": [
       "<div>\n",
       "<style scoped>\n",
       "    .dataframe tbody tr th:only-of-type {\n",
       "        vertical-align: middle;\n",
       "    }\n",
       "\n",
       "    .dataframe tbody tr th {\n",
       "        vertical-align: top;\n",
       "    }\n",
       "\n",
       "    .dataframe thead th {\n",
       "        text-align: right;\n",
       "    }\n",
       "</style>\n",
       "<table border=\"1\" class=\"dataframe\">\n",
       "  <thead>\n",
       "    <tr style=\"text-align: right;\">\n",
       "      <th></th>\n",
       "      <th>x</th>\n",
       "      <th>y</th>\n",
       "    </tr>\n",
       "  </thead>\n",
       "  <tbody>\n",
       "    <tr>\n",
       "      <th>0</th>\n",
       "      <td>55.3846</td>\n",
       "      <td>97.1795</td>\n",
       "    </tr>\n",
       "    <tr>\n",
       "      <th>1</th>\n",
       "      <td>51.5385</td>\n",
       "      <td>96.0256</td>\n",
       "    </tr>\n",
       "    <tr>\n",
       "      <th>2</th>\n",
       "      <td>46.1538</td>\n",
       "      <td>94.4872</td>\n",
       "    </tr>\n",
       "    <tr>\n",
       "      <th>3</th>\n",
       "      <td>42.8205</td>\n",
       "      <td>91.4103</td>\n",
       "    </tr>\n",
       "    <tr>\n",
       "      <th>4</th>\n",
       "      <td>40.7692</td>\n",
       "      <td>88.3333</td>\n",
       "    </tr>\n",
       "  </tbody>\n",
       "</table>\n",
       "</div>"
      ],
      "text/plain": [
       "         x        y\n",
       "0  55.3846  97.1795\n",
       "1  51.5385  96.0256\n",
       "2  46.1538  94.4872\n",
       "3  42.8205  91.4103\n",
       "4  40.7692  88.3333"
      ]
     },
     "execution_count": 27,
     "metadata": {},
     "output_type": "execute_result"
    }
   ],
   "source": [
    "#dataset er first er value gulo highlite korbe\n",
    "dataset1.head()"
   ]
  },
  {
   "cell_type": "code",
   "execution_count": 28,
   "id": "6d063f88",
   "metadata": {},
   "outputs": [
    {
     "data": {
      "text/html": [
       "<div>\n",
       "<style scoped>\n",
       "    .dataframe tbody tr th:only-of-type {\n",
       "        vertical-align: middle;\n",
       "    }\n",
       "\n",
       "    .dataframe tbody tr th {\n",
       "        vertical-align: top;\n",
       "    }\n",
       "\n",
       "    .dataframe thead th {\n",
       "        text-align: right;\n",
       "    }\n",
       "</style>\n",
       "<table border=\"1\" class=\"dataframe\">\n",
       "  <thead>\n",
       "    <tr style=\"text-align: right;\">\n",
       "      <th></th>\n",
       "      <th>x</th>\n",
       "      <th>y</th>\n",
       "    </tr>\n",
       "  </thead>\n",
       "  <tbody>\n",
       "    <tr>\n",
       "      <th>137</th>\n",
       "      <td>39.4872</td>\n",
       "      <td>25.3846</td>\n",
       "    </tr>\n",
       "    <tr>\n",
       "      <th>138</th>\n",
       "      <td>91.2821</td>\n",
       "      <td>41.5385</td>\n",
       "    </tr>\n",
       "    <tr>\n",
       "      <th>139</th>\n",
       "      <td>50.0000</td>\n",
       "      <td>95.7692</td>\n",
       "    </tr>\n",
       "    <tr>\n",
       "      <th>140</th>\n",
       "      <td>47.9487</td>\n",
       "      <td>95.0000</td>\n",
       "    </tr>\n",
       "    <tr>\n",
       "      <th>141</th>\n",
       "      <td>44.1026</td>\n",
       "      <td>92.6923</td>\n",
       "    </tr>\n",
       "  </tbody>\n",
       "</table>\n",
       "</div>"
      ],
      "text/plain": [
       "           x        y\n",
       "137  39.4872  25.3846\n",
       "138  91.2821  41.5385\n",
       "139  50.0000  95.7692\n",
       "140  47.9487  95.0000\n",
       "141  44.1026  92.6923"
      ]
     },
     "execution_count": 28,
     "metadata": {},
     "output_type": "execute_result"
    }
   ],
   "source": [
    "# dataset er last er value gulo highlite korbe\n",
    "dataset1.tail()"
   ]
  },
  {
   "cell_type": "code",
   "execution_count": 29,
   "id": "48a63c34",
   "metadata": {},
   "outputs": [
    {
     "data": {
      "text/plain": [
       "142"
      ]
     },
     "execution_count": 29,
     "metadata": {},
     "output_type": "execute_result"
    }
   ],
   "source": [
    "len(dataset1)"
   ]
  },
  {
   "cell_type": "code",
   "execution_count": 31,
   "id": "03f3758a",
   "metadata": {},
   "outputs": [
    {
     "data": {
      "text/plain": [
       "<AxesSubplot:xlabel='x'>"
      ]
     },
     "execution_count": 31,
     "metadata": {},
     "output_type": "execute_result"
    },
    {
     "data": {
      "image/png": "[encoded data removed]",
      "text/plain": [
       "<Figure size 640x480 with 1 Axes>"
      ]
     },
     "metadata": {},
     "output_type": "display_data"
    }
   ],
   "source": [
    "# ekhane plot askare dataset ta dekhano hobe.ekahne bar diagram use kora hoise\n",
    "\n",
    "dataset1.plot(kind = \"bar\", x = \"x\" , y = \"y\")"
   ]
  },
  {
   "cell_type": "code",
   "execution_count": 32,
   "id": "aa043bbc",
   "metadata": {},
   "outputs": [
    {
     "data": {
      "text/plain": [
       "<AxesSubplot:ylabel='Frequency'>"
      ]
     },
     "execution_count": 32,
     "metadata": {},
     "output_type": "execute_result"
    },
    {
     "data": {
      "image/png": "[encoded data removed]",
      "text/plain": [
       "<Figure size 640x480 with 1 Axes>"
      ]
     },
     "metadata": {},
     "output_type": "display_data"
    }
   ],
   "source": [
    "# ekhane histogram er maddhome dekhano hoise\n",
    "\n",
    "dataset1.plot(kind = \"hist\", x = \"x\", y = \"y\")"
   ]
  },
  {
   "cell_type": "code",
   "execution_count": 33,
   "id": "1d25eaab",
   "metadata": {},
   "outputs": [
    {
     "data": {
      "text/plain": [
       "<AxesSubplot:xlabel='x', ylabel='y'>"
      ]
     },
     "execution_count": 33,
     "metadata": {},
     "output_type": "execute_result"
    },
    {
     "data": {
      "image/png": "[encoded data removed]",
      "text/plain": [
       "<Figure size 640x480 with 1 Axes>"
      ]
     },
     "metadata": {},
     "output_type": "display_data"
    }
   ],
   "source": [
    "# ekhane scsatter diagam er maddhome dekhano hoise\n",
    "\n",
    "dataset1.plot(kind = \"scatter\" , x = 'x', y = 'y')"
   ]
  },
  {
   "cell_type": "code",
   "execution_count": 34,
   "id": "409e7ab9",
   "metadata": {},
   "outputs": [],
   "source": [
    "# first-notebook practices complete here"
   ]
  },
  {
   "cell_type": "markdown",
   "id": "e7923ce3",
   "metadata": {},
   "source": [
    "## Practical Class Practices"
   ]
  },
  {
   "cell_type": "code",
   "execution_count": 1,
   "id": "85a2d3a4",
   "metadata": {},
   "outputs": [],
   "source": [
    "# Assigning some numbers to different variables\n",
    "num1 = 10\n",
    "num2 = -3\n",
    "num3 = 7.41\n",
    "num4 = -.6\n",
    "num5 = 7\n",
    "num6 = 3\n",
    "num7 = 11.11"
   ]
  },
  {
   "cell_type": "code",
   "execution_count": 2,
   "id": "1c97dd00",
   "metadata": {},
   "outputs": [
    {
     "data": {
      "text/plain": [
       "7"
      ]
     },
     "execution_count": 2,
     "metadata": {},
     "output_type": "execute_result"
    }
   ],
   "source": [
    "# Addition\n",
    "num1 + num2"
   ]
  },
  {
   "cell_type": "code",
   "execution_count": 3,
   "id": "84954de2",
   "metadata": {},
   "outputs": [
    {
     "data": {
      "text/plain": [
       "-10.41"
      ]
     },
     "execution_count": 3,
     "metadata": {},
     "output_type": "execute_result"
    }
   ],
   "source": [
    "# Subtraction\n",
    "num2 - num3"
   ]
  },
  {
   "cell_type": "markdown",
   "id": "b9eddd3a",
   "metadata": {},
   "source": [
    "### Basic containers\n",
    "\n",
    "> Note: **mutable** objects can be modified after creation and **immutable** objects cannot.\n",
    "\n",
    "Containers are objects that can be used to group other objects together. The basic container types include:\n",
    "\n",
    "- **`str`** (string: immutable; indexed by integers; items are stored in the order they were added)\n",
    "- **`list`** (list: mutable; indexed by integers; items are stored in the order they were added)\n",
    "  - `[3, 5, 6, 3, 'dog', 'cat', False]`\n",
    "- **`tuple`** (tuple: immutable; indexed by integers; items are stored in the order they were added)\n",
    "  - `(3, 5, 6, 3, 'dog', 'cat', False)`\n",
    "- **`set`** (set: mutable; not indexed at all; items are NOT stored in the order they were added; can only contain immutable objects; does NOT contain duplicate objects)\n",
    "  - `{3, 5, 6, 3, 'dog', 'cat', False}`\n",
    "- **`dict`** (dictionary: mutable; key-value pairs are indexed by immutable keys; items are NOT stored in the order they were added)\n",
    "  - `{'name': 'Jane', 'age': 23, 'fav_foods': ['pizza', 'fruit', 'fish']}`\n",
    "\n",
    "When defining lists, tuples, or sets, use commas (,) to separate the individual items. When defining dicts, use a colon (:) to separate keys from values and commas (,) to separate the key-value pairs.\n",
    "\n",
    "Strings, lists, and tuples are all **sequence types** that can use the `+`, `*`, `+=`, and `*=` operators."
   ]
  },
  {
   "cell_type": "code",
   "execution_count": 14,
   "id": "2ae4096c",
   "metadata": {},
   "outputs": [],
   "source": [
    "# Assign some containers to different variables\n",
    "# File name \"learning python 3\"\n",
    "\n",
    "list1 = [1,2,2,4,'man','woman','red','cat','sky',True,]\n",
    "\n",
    "tuple1 = ('tanvir','rahman','black',4,5,4,5,False)\n",
    "\n",
    "set1 = {2,3,4,'hand','bold','color','coin','nose'} # set a eki value ekbarer beshi rakha jabe na\n",
    "\n",
    "dict1 = {'name':'tanvir','age':45,'sex':'male','roll':43}"
   ]
  },
  {
   "cell_type": "code",
   "execution_count": 15,
   "id": "d0a1cd2a",
   "metadata": {},
   "outputs": [
    {
     "name": "stdout",
     "output_type": "stream",
     "text": [
      "[1, 2, 2, 4, 'man', 'woman', 'red', 'cat', 'sky', True]\n",
      "('tanvir', 'rahman', 'black', 4, 5, 4, 5, False)\n",
      "{2, 3, 4, 'nose', 'hand', 'bold', 'color', 'coin'}\n",
      "{'name': 'tanvir', 'age': 45, 'sex': 'male', 'roll': 43}\n"
     ]
    }
   ],
   "source": [
    "print(list1)\n",
    "print(tuple1)\n",
    "print(set1)\n",
    "print(dict1)"
   ]
  },
  {
   "cell_type": "code",
   "execution_count": 19,
   "id": "86775d86",
   "metadata": {},
   "outputs": [
    {
     "name": "stdout",
     "output_type": "stream",
     "text": [
      "[1, 2, 2, 4, 'man', 'woman', 'red', 'cat', 'sky', True, 23, 'dog', 'night', 'black', 23, 'dog', 'night', 'black', 23, 'dog', 'night', 'black', 23, 'dog', 'night', 'black']\n",
      "('tanvir', 'rahman', 'black', 4, 5, 4, 5, False, 'friends', 'casual', 'chris', 431, True, 'friends', 'casual', 'chris', 431, True)\n"
     ]
    }
   ],
   "source": [
    "# re-assign\n",
    "\n",
    "list1 += [23,'dog','night','black']\n",
    "print(list1)\n",
    "\n",
    "tuple1 += ('friends','casual','chris',431,True)\n",
    "print(tuple1)"
   ]
  },
  {
   "cell_type": "code",
   "execution_count": 22,
   "id": "e6b56b0f",
   "metadata": {},
   "outputs": [
    {
     "name": "stdout",
     "output_type": "stream",
     "text": [
      "[1, 2, 2, 4, 'man', 'woman', 'red', 'cat', 'sky', True, 23, 'dog', 'night', 'black', 23, 'dog', 'night', 'black', 23, 'dog', 'night', 'black', 23, 'dog', 'night', 'black']\n",
      "('tanvir', 'rahman', 'black', 4, 5, 4, 5, False, 'friends', 'casual', 'chris', 431, True, 'friends', 'casual', 'chris', 431, True)\n"
     ]
    }
   ],
   "source": [
    "# Multiply\n",
    "\n",
    "list1*2   # every output will repeat \n",
    "print(list1)\n",
    "\n",
    "tuple1*2\n",
    "print(tuple1)"
   ]
  },
  {
   "cell_type": "markdown",
   "id": "6f58f684",
   "metadata": {},
   "source": [
    "### Accessing data in containers\n",
    "\n",
    "For **strings, lists, tuples, and dicts, we can use subscript notation** (square brackets) to access data at an index.\n",
    "\n",
    "- strings, lists, and tuples are indexed by integers, **starting at 0** for first item\n",
    "  - these sequence types also support accesing a range of items, known as **slicing**\n",
    "  - use **negative indexing** to start at the back of the sequence\n",
    "- dicts are indexed by their keys\n",
    "\n",
    "> Note: sets are not indexed, so we cannot use subscript notation to access data elements."
   ]
  },
  {
   "cell_type": "code",
   "execution_count": 30,
   "id": "c0542617",
   "metadata": {},
   "outputs": [
    {
     "name": "stdout",
     "output_type": "stream",
     "text": [
      "2\n",
      "True\n",
      "tanvir\n",
      "45\n"
     ]
    }
   ],
   "source": [
    "print(list1[2])\n",
    "print(tuple1[-1])\n",
    "print(dict1['name'])\n",
    "print(dict1['age'])"
   ]
  },
  {
   "cell_type": "markdown",
   "id": "7b08bbab",
   "metadata": {},
   "source": [
    "### Python built-in functions and callables\n",
    "\n",
    "A **function** is a Python object that you can \"call\" to **perform an action** or compute and **return another object**. You call a function by placing parentheses to the right of the function name. Some functions allow you to pass **arguments** inside the parentheses (separating multiple arguments with a comma). Internal to the function, these arguments are treated like variables.\n",
    "\n",
    "Python has several useful built-in functions to help you work with different objects and/or your environment. Here is a small sample of them:\n",
    "\n",
    "- **`type(obj)`** to determine the type of an object\n",
    "- **`len(container)`** to determine how many items are in a container\n",
    "- **`callable(obj)`** to determine if an object is callable\n",
    "- **`sorted(container)`** to return a new list from a container, with the items sorted\n",
    "- **`sum(container)`** to compute the sum of a container of numbers\n",
    "- **`min(container)`** to determine the smallest item in a container\n",
    "- **`max(container)`** to determine the largest item in a container\n",
    "- **`abs(number)`** to determine the absolute value of a number\n",
    "- **`repr(obj)`** to return a string representation of an object\n"
   ]
  },
  {
   "cell_type": "code",
   "execution_count": 31,
   "id": "9b96acfe",
   "metadata": {},
   "outputs": [],
   "source": [
    "strings = \" I go to university regularly\""
   ]
  },
  {
   "cell_type": "code",
   "execution_count": 37,
   "id": "3cf7c387",
   "metadata": {},
   "outputs": [
    {
     "name": "stdout",
     "output_type": "stream",
     "text": [
      "<class 'str'>\n",
      "<class 'dict'>\n",
      "<class 'tuple'>\n",
      "<class 'list'>\n"
     ]
    }
   ],
   "source": [
    "print(type(strings))\n",
    "print(type(dict1))\n",
    "print(type(tuple1))\n",
    "print(type(list1))"
   ]
  },
  {
   "cell_type": "code",
   "execution_count": 38,
   "id": "a20935a9",
   "metadata": {},
   "outputs": [
    {
     "data": {
      "text/plain": [
       "29"
      ]
     },
     "execution_count": 38,
     "metadata": {},
     "output_type": "execute_result"
    }
   ],
   "source": [
    "len(strings)"
   ]
  },
  {
   "cell_type": "code",
   "execution_count": 39,
   "id": "eb8b83de",
   "metadata": {},
   "outputs": [
    {
     "data": {
      "text/plain": [
       "4"
      ]
     },
     "execution_count": 39,
     "metadata": {},
     "output_type": "execute_result"
    }
   ],
   "source": [
    "len(dict1)"
   ]
  },
  {
   "cell_type": "code",
   "execution_count": 40,
   "id": "f0339678",
   "metadata": {},
   "outputs": [
    {
     "data": {
      "text/plain": [
       "26"
      ]
     },
     "execution_count": 40,
     "metadata": {},
     "output_type": "execute_result"
    }
   ],
   "source": [
    "len(list1)"
   ]
  },
  {
   "cell_type": "code",
   "execution_count": 44,
   "id": "24776eb7",
   "metadata": {},
   "outputs": [
    {
     "name": "stdout",
     "output_type": "stream",
     "text": [
      "True\n",
      "True\n",
      "True\n"
     ]
    }
   ],
   "source": [
    "# kono function call kora ji kina ta dekhar jonno\n",
    "\n",
    "print(callable(len))\n",
    "print(callable(sorted))\n",
    "print(callable(repr))"
   ]
  },
  {
   "cell_type": "code",
   "execution_count": 46,
   "id": "05e0f895",
   "metadata": {},
   "outputs": [
    {
     "data": {
      "text/plain": [
       "[-23, 0, 12, 12, 43, 54, 56]"
      ]
     },
     "execution_count": 46,
     "metadata": {},
     "output_type": "execute_result"
    }
   ],
   "source": [
    "# accending order a output anar jonno\n",
    "\n",
    "sorted([12,43,56,0,-23,54,12])\n"
   ]
  },
  {
   "cell_type": "code",
   "execution_count": 51,
   "id": "629d850b",
   "metadata": {},
   "outputs": [
    {
     "name": "stdout",
     "output_type": "stream",
     "text": [
      "[[1, 2, 2, 4, 'man', 'woman', 'red', 'cat', 'sky', True, 23, 'dog', 'night', 'black', 23, 'dog', 'night', 'black', 23, 'dog', 'night', 'black', 23, 'dog', 'night', 'black']]\n",
      "[('tanvir', 'rahman', 'black', 4, 5, 4, 5, False, 'friends', 'casual', 'chris', 431, True, 'friends', 'casual', 'chris', 431, True)]\n"
     ]
    }
   ],
   "source": [
    "print(sorted([list1]))\n",
    "print(sorted([tuple1]))"
   ]
  },
  {
   "cell_type": "code",
   "execution_count": 56,
   "id": "6bb3246f",
   "metadata": {},
   "outputs": [
    {
     "name": "stdout",
     "output_type": "stream",
     "text": [
      "-23\n",
      "56\n",
      "a\n",
      "z\n"
     ]
    }
   ],
   "source": [
    "# minimum and maximum value pawar jonno\n",
    "\n",
    "print(min([12,43,56,0,-23,54,12]))\n",
    "print(max([12,43,56,0,-23,54,12]))\n",
    "print(min(['a','x','r','o','m','l']))\n",
    "print(max(['A','c','z','op','m','r']))"
   ]
  },
  {
   "cell_type": "code",
   "execution_count": 62,
   "id": "c4f9e1cd",
   "metadata": {},
   "outputs": [
    {
     "name": "stdout",
     "output_type": "stream",
     "text": [
      "122\n",
      "43\n",
      "10\n"
     ]
    }
   ],
   "source": [
    "# for the absolute value\n",
    "\n",
    "print(abs(-122))\n",
    "print(abs(-43))\n",
    "print(abs(10))"
   ]
  },
  {
   "cell_type": "code",
   "execution_count": 66,
   "id": "8e76ea74",
   "metadata": {},
   "outputs": [
    {
     "name": "stdout",
     "output_type": "stream",
     "text": [
      "{2, 3, 4, 'nose', 'hand', 'bold', 'color', 'coin'}\n",
      "[1, 2, 2, 4, 'man', 'woman', 'red', 'cat', 'sky', True, 23, 'dog', 'night', 'black', 23, 'dog', 'night', 'black', 23, 'dog', 'night', 'black', 23, 'dog', 'night', 'black']\n",
      "('tanvir', 'rahman', 'black', 4, 5, 4, 5, False, 'friends', 'casual', 'chris', 431, True, 'friends', 'casual', 'chris', 431, True)\n"
     ]
    }
   ],
   "source": [
    "# repr() function represent the object\n",
    "\n",
    "print(repr(set1))\n",
    "print(repr(list1))\n",
    "print(repr(tuple1))"
   ]
  },
  {
   "cell_type": "markdown",
   "id": "f09fe7bb",
   "metadata": {},
   "source": [
    "### Python object attributes (methods and properties)\n",
    "\n",
    "Different types of objects in Python have different **attributes** that can be referred to by name (similar to a variable). To access an attribute of an object, use a dot (`.`) after the object, then specify the attribute (i.e. `obj.attribute`)\n",
    "\n",
    "When an attribute of an object is a callable, that attribute is called a **method**. It is the same as a function, only this function is bound to a particular object.\n",
    "\n",
    "When an attribute of an object is not a callable, that attribute is called a **property**. It is just a piece of data about the object, that is itself another object.\n",
    "\n",
    "The built-in `dir()` function can be used to return a list of an object's attributes.\n",
    "\n"
   ]
  },
  {
   "cell_type": "markdown",
   "id": "dadb7297",
   "metadata": {},
   "source": [
    "#### Some methods on string objects\n",
    "\n",
    "- **`.capitalize()`** to return a capitalized version of the string (only first char uppercase)\n",
    "- **`.upper()`** to return an uppercase version of the string (all chars uppercase)\n",
    "- **`.lower()`** to return an lowercase version of the string (all chars lowercase)\n",
    "- **`.count(substring)`** to return the number of time occurences of the substring in the string\n",
    "- **`.startswith(substring)`** to determine if the string starts with the substring\n",
    "- **`.endswith(substring)`** to determine if the string ends with the substring\n",
    "- **`.replace(old, new)`** to return a copy of the string with occurences of the \"old\" replaced by \"new\"\n"
   ]
  },
  {
   "cell_type": "code",
   "execution_count": 69,
   "id": "2dde8e45",
   "metadata": {},
   "outputs": [],
   "source": [
    "a_string = 'tHis is a sTriNg'"
   ]
  },
  {
   "cell_type": "code",
   "execution_count": 92,
   "id": "98537621",
   "metadata": {},
   "outputs": [
    {
     "name": "stdout",
     "output_type": "stream",
     "text": [
      "This is a string\n",
      "THIS IS A STRING\n",
      "this is a string\n",
      "tHis is an sTriNg\n",
      "1\n",
      "True\n",
      "False\n"
     ]
    }
   ],
   "source": [
    "print(a_string.capitalize())  # it will capitalize the first Alphabet from the string\n",
    "print(a_string.upper())   # it will make all letter uppercase\n",
    "print(a_string.lower())    # It will make lowercase all latters\n",
    "print(a_string.replace('a','an'))  # it will replace all the alphabets\n",
    "print(a_string.count(\"sTriNg\"))  # The substr_count() function counts the number of times a substring occurs in a string.\n",
    "print(a_string.startswith('tHis')) # inputed substring diye start hoise kina check korar jonno\n",
    "print(a_string.endswith('a'))   # inputed substring diye string ta shesh hoyse kona dekhar jonnno"
   ]
  },
  {
   "cell_type": "markdown",
   "id": "ab423310",
   "metadata": {},
   "source": [
    "#### Some methods on list objects\n",
    "\n",
    "- **`.append(item)`** to add a single item to the list\n",
    "- **`.extend([item1, item2, ...])`** to add multiple items to the list\n",
    "- **`.remove(item)`** to remove a single item from the list\n",
    "- **`.pop()`** to remove and return the item at the end of the list\n",
    "- **`.pop(index)`** to remove and return an item at an index"
   ]
  },
  {
   "cell_type": "code",
   "execution_count": 102,
   "id": "cce8d48d",
   "metadata": {},
   "outputs": [
    {
     "data": {
      "text/plain": [
       "[23, 4, 56, 'night', 'white', 'mom', 'dad', 'home', -32, -9]"
      ]
     },
     "execution_count": 102,
     "metadata": {},
     "output_type": "execute_result"
    }
   ],
   "source": [
    "list2 = [23,4,56,'night','white','mom','dad','home',-32,-9]\n",
    "list2"
   ]
  },
  {
   "cell_type": "code",
   "execution_count": 103,
   "id": "c30191f2",
   "metadata": {},
   "outputs": [
    {
     "name": "stdout",
     "output_type": "stream",
     "text": [
      "[23, 4, 56, 'night', 'white', 'mom', 'dad', 'home', -32, -9, 'Bangladesh']\n"
     ]
    }
   ],
   "source": [
    "list2.append(\"Bangladesh\")  # for adding a single elent to the list\n",
    "print(list2)"
   ]
  },
  {
   "cell_type": "code",
   "execution_count": 104,
   "id": "445d1c55",
   "metadata": {},
   "outputs": [
    {
     "name": "stdout",
     "output_type": "stream",
     "text": [
      "[23, 4, 56, 'night', 'white', 'mom', 'dad', 'home', -32, -9, 'Bangladesh', 'apple', 'math', 'life', 'love']\n"
     ]
    }
   ],
   "source": [
    "list2.extend(['apple','math','life','love']) # for adding more elements in a list\n",
    "print(list2)"
   ]
  },
  {
   "cell_type": "code",
   "execution_count": 105,
   "id": "30f66709",
   "metadata": {},
   "outputs": [
    {
     "name": "stdout",
     "output_type": "stream",
     "text": [
      "[23, 4, 56, 'night', 'white', 'mom', 'dad', 'home', -9, 'Bangladesh', 'apple', 'math', 'life', 'love']\n"
     ]
    }
   ],
   "source": [
    "list2.remove(-32)  # for ermoving a single element from the list\n",
    "print(list2)"
   ]
  },
  {
   "cell_type": "code",
   "execution_count": 109,
   "id": "2fdf5a04",
   "metadata": {},
   "outputs": [
    {
     "name": "stdout",
     "output_type": "stream",
     "text": [
      "[23, 4, 56, 'night', 'white', 'mom', 'dad', 'home', -9, 'Bangladesh', 'apple', 'math']\n"
     ]
    }
   ],
   "source": [
    "list2.pop()  # it will pop or remove the last index from the list\n",
    "print(list2)"
   ]
  },
  {
   "cell_type": "code",
   "execution_count": 110,
   "id": "0745760e",
   "metadata": {},
   "outputs": [
    {
     "name": "stdout",
     "output_type": "stream",
     "text": [
      "[23, 4, 56, 'night', 'white', 'mom', 'dad', 'home', -9, 'Bangladesh', 'apple']\n"
     ]
    }
   ],
   "source": [
    "list2.pop()  # again it has removed the last element from the list\n",
    "print(list2)"
   ]
  },
  {
   "cell_type": "code",
   "execution_count": 112,
   "id": "3cda5780",
   "metadata": {},
   "outputs": [
    {
     "name": "stdout",
     "output_type": "stream",
     "text": [
      "[23, 4, 56, 'white', 'mom', 'dad', 'home', -9, 'Bangladesh', 'apple']\n"
     ]
    }
   ],
   "source": [
    "list2.pop(3) # ekhane list theke 3 no element remove kora hoise\n",
    "print(list2)"
   ]
  },
  {
   "cell_type": "code",
   "execution_count": 113,
   "id": "d86edf9a",
   "metadata": {},
   "outputs": [
    {
     "name": "stdout",
     "output_type": "stream",
     "text": [
      "[23, 4, 56, 'white', 'mom', 'home', -9, 'Bangladesh', 'apple']\n"
     ]
    }
   ],
   "source": [
    "list2.pop(5)  # ekhane dad element ta remove kora hobe\n",
    "print(list2)"
   ]
  },
  {
   "cell_type": "markdown",
   "id": "147719f6",
   "metadata": {},
   "source": [
    "#### Some methods on set objects\n",
    "\n",
    "- **`.add(item)`** to add a single item to the set\n",
    "- **`.update([item1, item2, ...])`** to add multiple items to the set\n",
    "- **`.update(set2, set3, ...)`** to add items from all provided sets to the set\n",
    "- **`.remove(item)`** to remove a single item from the set\n",
    "- **`.pop()`** to remove and return a random item from the set\n",
    "- **`.difference(set2)`** to return items in the set that are not in another set\n",
    "- **`.intersection(set2)`** to return items in both sets\n",
    "- **`.union(set2)`** to return items that are in either set\n",
    "- **`.symmetric_difference(set2)`** to return items that are only in one set (not both)\n",
    "- **`.issuperset(set2)`** does the set contain everything in the other set?\n",
    "- **`.issubset(set2)`** is the set contained in the other set?"
   ]
  },
  {
   "cell_type": "code",
   "execution_count": 114,
   "id": "6e685ac2",
   "metadata": {},
   "outputs": [],
   "source": [
    "set2 = {2,45,1,6,-9,'mintu','hanif','golalu','biplob','rice','roni'}"
   ]
  },
  {
   "cell_type": "code",
   "execution_count": 116,
   "id": "cd489819",
   "metadata": {},
   "outputs": [
    {
     "name": "stdout",
     "output_type": "stream",
     "text": [
      "{1, 2, 6, 'biplob', 'rice', 'roni', 45, 'jhalmuri', 'mintu', -9, 'golalu', 'hanif'}\n"
     ]
    }
   ],
   "source": [
    "set2.add('jhalmuri') # ekta element set a add korar jonno \n",
    "print(set2)"
   ]
  },
  {
   "cell_type": "code",
   "execution_count": 119,
   "id": "1b87344a",
   "metadata": {},
   "outputs": [
    {
     "name": "stdout",
     "output_type": "stream",
     "text": [
      "{'cat', 1, 2, 'fat', 6, 'biplob', 'rice', 'roni', 'rat', 45, 'jhalmuri', 'mintu', -9, 'golalu', 'hanif'}\n"
     ]
    }
   ],
   "source": [
    "set2.update(['cat','fat','rat']) # to add more than one item into the set\n",
    "print(set2)"
   ]
  },
  {
   "cell_type": "code",
   "execution_count": 121,
   "id": "2df2f160",
   "metadata": {},
   "outputs": [
    {
     "name": "stdout",
     "output_type": "stream",
     "text": [
      "{1, 2, 3, 4, 'nose', 6, 'hand', 'roni', 'rat', 'mintu', 'cat', 'golalu', 'bold', 'coin', 'hanif', 'fat', 'biplob', 'rice', 45, 'jhalmuri', -9, 'color'}\n"
     ]
    }
   ],
   "source": [
    "set2.update(set1) # to add all the items from other sets\n",
    "print(set2)"
   ]
  },
  {
   "cell_type": "code",
   "execution_count": 123,
   "id": "d22ece18",
   "metadata": {},
   "outputs": [
    {
     "name": "stdout",
     "output_type": "stream",
     "text": [
      "{1, 2, 3, 4, 'nose', 6, 'hand', 'roni', 'rat', 'mintu', 'cat', 'golalu', 'coin', 'hanif', 'fat', 'biplob', 'rice', 45, 'jhalmuri', -9, 'color'}\n"
     ]
    }
   ],
   "source": [
    "set2.remove('bold') # to remove a single item\n",
    "print(set2)"
   ]
  },
  {
   "cell_type": "code",
   "execution_count": 126,
   "id": "160cd25b",
   "metadata": {},
   "outputs": [
    {
     "name": "stdout",
     "output_type": "stream",
     "text": [
      "{4, 'nose', 6, 'hand', 'roni', 'rat', 'mintu', 'cat', 'golalu', 'coin', 'hanif', 'fat', 'biplob', 'rice', 45, 'jhalmuri', -9, 'color'}\n"
     ]
    }
   ],
   "source": [
    "set2.pop()   # to remove a single item. it will remove the very first item from the set\n",
    "print(set2)"
   ]
  },
  {
   "cell_type": "code",
   "execution_count": 127,
   "id": "5e849ee7",
   "metadata": {},
   "outputs": [],
   "source": [
    "set3 = { 1,2,3,4,5,6,7}\n",
    "set4 = {2,4,6,8,9,0,12}"
   ]
  },
  {
   "cell_type": "code",
   "execution_count": 129,
   "id": "eeba88a9",
   "metadata": {},
   "outputs": [
    {
     "data": {
      "text/plain": [
       "{2, 4, 6}"
      ]
     },
     "execution_count": 129,
     "metadata": {},
     "output_type": "execute_result"
    }
   ],
   "source": [
    "# intersection of two sets\n",
    "\n",
    "set3.intersection(set4)"
   ]
  },
  {
   "cell_type": "code",
   "execution_count": 131,
   "id": "8214e88e",
   "metadata": {},
   "outputs": [
    {
     "data": {
      "text/plain": [
       "{0, 1, 2, 3, 4, 5, 6, 7, 8, 9, 12}"
      ]
     },
     "execution_count": 131,
     "metadata": {},
     "output_type": "execute_result"
    }
   ],
   "source": [
    "# union of two sets\n",
    "\n",
    "set3.union(set4)"
   ]
  },
  {
   "cell_type": "code",
   "execution_count": 130,
   "id": "5815d7d2",
   "metadata": {},
   "outputs": [
    {
     "data": {
      "text/plain": [
       "{1, 3, 5, 7}"
      ]
     },
     "execution_count": 130,
     "metadata": {},
     "output_type": "execute_result"
    }
   ],
   "source": [
    "# difference of two sets\n",
    "\n",
    "set3.difference(set4) # ekhane shudhu set3 er uncommon element gulai dekhabe"
   ]
  },
  {
   "cell_type": "code",
   "execution_count": 132,
   "id": "d9313405",
   "metadata": {},
   "outputs": [
    {
     "data": {
      "text/plain": [
       "{0, 1, 3, 5, 7, 8, 9, 12}"
      ]
     },
     "execution_count": 132,
     "metadata": {},
     "output_type": "execute_result"
    }
   ],
   "source": [
    "# symmetric_difference\n",
    "\n",
    "set3.symmetric_difference(set4) # ekhane set3 and set4 duita thekei uncommon jinish gula dekhabe"
   ]
  },
  {
   "cell_type": "code",
   "execution_count": 135,
   "id": "7663ba14",
   "metadata": {},
   "outputs": [
    {
     "data": {
      "text/plain": [
       "False"
      ]
     },
     "execution_count": 135,
     "metadata": {},
     "output_type": "execute_result"
    }
   ],
   "source": [
    "# subset\n",
    "\n",
    "set3.issubset(set4) # etar amne holo set3 ki set4 er subset. False ashbe karon subset na"
   ]
  },
  {
   "cell_type": "code",
   "execution_count": 139,
   "id": "b6336f1e",
   "metadata": {},
   "outputs": [],
   "source": [
    "set5 = {0,1,2,3,4,5,6,7,8,9,10,11,12,13}"
   ]
  },
  {
   "cell_type": "code",
   "execution_count": 148,
   "id": "a290f756",
   "metadata": {},
   "outputs": [
    {
     "name": "stdout",
     "output_type": "stream",
     "text": [
      "True\n",
      "False\n"
     ]
    }
   ],
   "source": [
    "print(set4.issubset(set5)) # ekhane set4 set5 er subset \n",
    "print(set5.issubset(set4)) # False ashbe karon set5 set4 er subset na"
   ]
  },
  {
   "cell_type": "code",
   "execution_count": 150,
   "id": "56a87b89",
   "metadata": {},
   "outputs": [
    {
     "name": "stdout",
     "output_type": "stream",
     "text": [
      "True\n",
      "False\n"
     ]
    }
   ],
   "source": [
    "print(set3.issubset(set5)) # ekhane set3 set5 er subset\n",
    "print(set5.issubset(set3))  # karon set5 set3 er subset na"
   ]
  },
  {
   "cell_type": "code",
   "execution_count": 153,
   "id": "641adba7",
   "metadata": {},
   "outputs": [
    {
     "name": "stdout",
     "output_type": "stream",
     "text": [
      "True\n",
      "True\n"
     ]
    }
   ],
   "source": [
    "# superset \n",
    "print(set5.issuperset(set4)) #  karon set5 set4 er subset na but superset\n",
    "print(set5.issuperset(set3))  # karon set5 set3 er subset na but superset"
   ]
  },
  {
   "cell_type": "code",
   "execution_count": null,
   "id": "0e89b717",
   "metadata": {},
   "outputs": [],
   "source": []
  }
 ],
 "metadata": {
  "kernelspec": {
   "display_name": "Python 3 (ipykernel)",
   "language": "python",
   "name": "python3"
  },
  "language_info": {
   "codemirror_mode": {
    "name": "ipython",
    "version": 3
   },
   "file_extension": ".py",
   "mimetype": "text/x-python",
   "name": "python",
   "nbconvert_exporter": "python",
   "pygments_lexer": "ipython3",
   "version": "3.9.13"
  }
 },
 "nbformat": 4,
 "nbformat_minor": 5
}
